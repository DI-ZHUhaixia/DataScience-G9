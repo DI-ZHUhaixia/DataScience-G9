{
 "cells": [
  {
   "cell_type": "markdown",
   "metadata": {},
   "source": [
    "# Group 9 - Scottish Bricks"
   ]
  },
  {
   "cell_type": "markdown",
   "metadata": {},
   "source": [
    "We mainly analyze the website https://www.scottishbrickhistory.co.uk/category/brick-and-tile-works/"
   ]
  },
  {
   "cell_type": "code",
   "execution_count": 1,
   "metadata": {},
   "outputs": [
    {
     "data": {
      "text/html": [
       "        <script type=\"text/javascript\">\n",
       "        window.PlotlyConfig = {MathJaxConfig: 'local'};\n",
       "        if (window.MathJax) {MathJax.Hub.Config({SVG: {font: \"STIX-Web\"}});}\n",
       "        if (typeof require !== 'undefined') {\n",
       "        require.undef(\"plotly\");\n",
       "        requirejs.config({\n",
       "            paths: {\n",
       "                'plotly': ['https://cdn.plot.ly/plotly-latest.min']\n",
       "            }\n",
       "        });\n",
       "        require(['plotly'], function(Plotly) {\n",
       "            window._Plotly = Plotly;\n",
       "        });\n",
       "        }\n",
       "        </script>\n",
       "        "
      ]
     },
     "metadata": {},
     "output_type": "display_data"
    },
    {
     "data": {
      "text/html": [
       "        <script type=\"text/javascript\">\n",
       "        window.PlotlyConfig = {MathJaxConfig: 'local'};\n",
       "        if (window.MathJax) {MathJax.Hub.Config({SVG: {font: \"STIX-Web\"}});}\n",
       "        if (typeof require !== 'undefined') {\n",
       "        require.undef(\"plotly\");\n",
       "        requirejs.config({\n",
       "            paths: {\n",
       "                'plotly': ['https://cdn.plot.ly/plotly-latest.min']\n",
       "            }\n",
       "        });\n",
       "        require(['plotly'], function(Plotly) {\n",
       "            window._Plotly = Plotly;\n",
       "        });\n",
       "        }\n",
       "        </script>\n",
       "        "
      ]
     },
     "metadata": {},
     "output_type": "display_data"
    }
   ],
   "source": [
    "import time\n",
    "import requests\n",
    "import pandas as pd\n",
    "from bs4 import BeautifulSoup as bs\n",
    "import cufflinks as cf\n",
    "import matplotlib.pyplot as plt\n",
    "from wordcloud import WordCloud\n",
    "from dateutil.parser import parse\n",
    "import numpy as np\n",
    "\n",
    "cf.set_config_file(offline=True)"
   ]
  },
  {
   "cell_type": "markdown",
   "metadata": {},
   "source": [
    "## Get data"
   ]
  },
  {
   "cell_type": "code",
   "execution_count": 2,
   "metadata": {},
   "outputs": [],
   "source": [
    "request_urls = []\n",
    "for p in range(1,34):\n",
    "    request_url = f\"https://www.scottishbrickhistory.co.uk/category/brick-and-tile-works/page/{p}/\"\n",
    "    request_urls.append(request_url)"
   ]
  },
  {
   "cell_type": "code",
   "execution_count": 3,
   "metadata": {},
   "outputs": [],
   "source": [
    "dfs = []\n",
    "for request_url in request_urls:\n",
    "    \n",
    "    res = requests.get(request_url)\n",
    "    soup = bs(res.text)\n",
    "    headers = soup.select('div.entry-content header')\n",
    "    \n",
    "    urls = [header.select('h5 a')[0]['href'] for header in headers]\n",
    "    titles = [header.select('h5 a')[0].string for header in headers]\n",
    "    times = [header.select('span')[0].string for header in headers]\n",
    "    \n",
    "    df = pd.DataFrame({'url': urls, 'title': titles, 'time': times})\n",
    "    dfs.append(df)\n",
    "    \n",
    "    time.sleep(5)"
   ]
  },
  {
   "cell_type": "code",
   "execution_count": 4,
   "metadata": {},
   "outputs": [],
   "source": [
    "data = pd.concat(dfs)"
   ]
  },
  {
   "cell_type": "markdown",
   "metadata": {},
   "source": [
    "### Figure out how many pages there are"
   ]
  },
  {
   "cell_type": "code",
   "execution_count": 5,
   "metadata": {},
   "outputs": [
    {
     "data": {
      "text/plain": [
       "33"
      ]
     },
     "execution_count": 5,
     "metadata": {},
     "output_type": "execute_result"
    }
   ],
   "source": [
    "len(dfs)"
   ]
  },
  {
   "cell_type": "markdown",
   "metadata": {},
   "source": [
    "### Get the form"
   ]
  },
  {
   "cell_type": "code",
   "execution_count": 6,
   "metadata": {
    "scrolled": true
   },
   "outputs": [
    {
     "data": {
      "text/html": [
       "<div>\n",
       "<style scoped>\n",
       "    .dataframe tbody tr th:only-of-type {\n",
       "        vertical-align: middle;\n",
       "    }\n",
       "\n",
       "    .dataframe tbody tr th {\n",
       "        vertical-align: top;\n",
       "    }\n",
       "\n",
       "    .dataframe thead th {\n",
       "        text-align: right;\n",
       "    }\n",
       "</style>\n",
       "<table border=\"1\" class=\"dataframe\">\n",
       "  <thead>\n",
       "    <tr style=\"text-align: right;\">\n",
       "      <th></th>\n",
       "      <th>url</th>\n",
       "      <th>title</th>\n",
       "      <th>time</th>\n",
       "    </tr>\n",
       "  </thead>\n",
       "  <tbody>\n",
       "    <tr>\n",
       "      <th>0</th>\n",
       "      <td>https://www.scottishbrickhistory.co.uk/a-mcgro...</td>\n",
       "      <td>A McGrouther, brickmaker, Newhouse, St Ninians...</td>\n",
       "      <td>— 22/01/2018</td>\n",
       "    </tr>\n",
       "    <tr>\n",
       "      <th>1</th>\n",
       "      <td>https://www.scottishbrickhistory.co.uk/a-kenne...</td>\n",
       "      <td>A. Kenneth &amp; Sons Ltd, Shewalton, North Ayrshi...</td>\n",
       "      <td>— 25/08/2014</td>\n",
       "    </tr>\n",
       "    <tr>\n",
       "      <th>2</th>\n",
       "      <td>https://www.scottishbrickhistory.co.uk/abbots-...</td>\n",
       "      <td>Abbots Haugh, Falkirk – Unidentified Tileworks</td>\n",
       "      <td>— 10/01/2020</td>\n",
       "    </tr>\n",
       "    <tr>\n",
       "      <th>3</th>\n",
       "      <td>https://www.scottishbrickhistory.co.uk/abercor...</td>\n",
       "      <td>Abercorn Brickworks, Portobello, Edinburgh</td>\n",
       "      <td>— 23/06/2017</td>\n",
       "    </tr>\n",
       "    <tr>\n",
       "      <th>4</th>\n",
       "      <td>https://www.scottishbrickhistory.co.uk/aberhil...</td>\n",
       "      <td>Aberhill Brickworks, Methil, Fife.</td>\n",
       "      <td>— 04/11/2018</td>\n",
       "    </tr>\n",
       "  </tbody>\n",
       "</table>\n",
       "</div>"
      ],
      "text/plain": [
       "                                                 url  \\\n",
       "0  https://www.scottishbrickhistory.co.uk/a-mcgro...   \n",
       "1  https://www.scottishbrickhistory.co.uk/a-kenne...   \n",
       "2  https://www.scottishbrickhistory.co.uk/abbots-...   \n",
       "3  https://www.scottishbrickhistory.co.uk/abercor...   \n",
       "4  https://www.scottishbrickhistory.co.uk/aberhil...   \n",
       "\n",
       "                                               title          time  \n",
       "0  A McGrouther, brickmaker, Newhouse, St Ninians...  — 22/01/2018  \n",
       "1  A. Kenneth & Sons Ltd, Shewalton, North Ayrshi...  — 25/08/2014  \n",
       "2     Abbots Haugh, Falkirk – Unidentified Tileworks  — 10/01/2020  \n",
       "3         Abercorn Brickworks, Portobello, Edinburgh  — 23/06/2017  \n",
       "4                 Aberhill Brickworks, Methil, Fife.  — 04/11/2018  "
      ]
     },
     "execution_count": 6,
     "metadata": {},
     "output_type": "execute_result"
    }
   ],
   "source": [
    "data.head()"
   ]
  },
  {
   "cell_type": "markdown",
   "metadata": {},
   "source": [
    " "
   ]
  },
  {
   "cell_type": "markdown",
   "metadata": {},
   "source": [
    "## Analysis"
   ]
  },
  {
   "cell_type": "markdown",
   "metadata": {},
   "source": [
    "### 1. Data cleansing"
   ]
  },
  {
   "cell_type": "code",
   "execution_count": 7,
   "metadata": {},
   "outputs": [],
   "source": [
    "data.drop_duplicates(inplace=True) # If there are multiple lines that are exactly the same, keep only the first line"
   ]
  },
  {
   "cell_type": "code",
   "execution_count": 8,
   "metadata": {
    "scrolled": true
   },
   "outputs": [
    {
     "data": {
      "text/plain": [
       "url      0\n",
       "title    0\n",
       "time     0\n",
       "dtype: int64"
      ]
     },
     "execution_count": 8,
     "metadata": {},
     "output_type": "execute_result"
    }
   ],
   "source": [
    "data.isnull().sum() # Calculates the number of null values for all columns"
   ]
  },
  {
   "cell_type": "markdown",
   "metadata": {},
   "source": [
    "The outputs are all 0, indicating that there is no missing value"
   ]
  },
  {
   "cell_type": "code",
   "execution_count": 9,
   "metadata": {},
   "outputs": [],
   "source": [
    "data['time'] = data['time'].map(lambda x: parse(x.replace( '—', '') , dayfirst=True))  \n",
    "# Drop the symbol before the time and convert the time to datetime format"
   ]
  },
  {
   "cell_type": "markdown",
   "metadata": {},
   "source": [
    " "
   ]
  },
  {
   "cell_type": "markdown",
   "metadata": {},
   "source": [
    "### 2. Dataset simple description"
   ]
  },
  {
   "cell_type": "code",
   "execution_count": 10,
   "metadata": {},
   "outputs": [
    {
     "name": "stdout",
     "output_type": "stream",
     "text": [
      "<class 'pandas.core.frame.DataFrame'>\n",
      "Int64Index: 971 entries, 0 to 10\n",
      "Data columns (total 3 columns):\n",
      " #   Column  Non-Null Count  Dtype         \n",
      "---  ------  --------------  -----         \n",
      " 0   url     971 non-null    object        \n",
      " 1   title   971 non-null    object        \n",
      " 2   time    971 non-null    datetime64[ns]\n",
      "dtypes: datetime64[ns](1), object(2)\n",
      "memory usage: 30.3+ KB\n"
     ]
    }
   ],
   "source": [
    "data.info()   #View null values and data types for each column"
   ]
  },
  {
   "cell_type": "code",
   "execution_count": 11,
   "metadata": {},
   "outputs": [
    {
     "data": {
      "text/html": [
       "<div>\n",
       "<style scoped>\n",
       "    .dataframe tbody tr th:only-of-type {\n",
       "        vertical-align: middle;\n",
       "    }\n",
       "\n",
       "    .dataframe tbody tr th {\n",
       "        vertical-align: top;\n",
       "    }\n",
       "\n",
       "    .dataframe thead th {\n",
       "        text-align: right;\n",
       "    }\n",
       "</style>\n",
       "<table border=\"1\" class=\"dataframe\">\n",
       "  <thead>\n",
       "    <tr style=\"text-align: right;\">\n",
       "      <th></th>\n",
       "      <th>url</th>\n",
       "      <th>title</th>\n",
       "      <th>time</th>\n",
       "    </tr>\n",
       "  </thead>\n",
       "  <tbody>\n",
       "    <tr>\n",
       "      <th>count</th>\n",
       "      <td>971</td>\n",
       "      <td>971</td>\n",
       "      <td>971</td>\n",
       "    </tr>\n",
       "    <tr>\n",
       "      <th>unique</th>\n",
       "      <td>971</td>\n",
       "      <td>971</td>\n",
       "      <td>526</td>\n",
       "    </tr>\n",
       "    <tr>\n",
       "      <th>top</th>\n",
       "      <td>https://www.scottishbrickhistory.co.uk/cardros...</td>\n",
       "      <td>Etna Brickworks, Bathville, Armadale, West Lot...</td>\n",
       "      <td>2018-11-20 00:00:00</td>\n",
       "    </tr>\n",
       "    <tr>\n",
       "      <th>freq</th>\n",
       "      <td>1</td>\n",
       "      <td>1</td>\n",
       "      <td>12</td>\n",
       "    </tr>\n",
       "    <tr>\n",
       "      <th>first</th>\n",
       "      <td>NaN</td>\n",
       "      <td>NaN</td>\n",
       "      <td>2014-04-28 00:00:00</td>\n",
       "    </tr>\n",
       "    <tr>\n",
       "      <th>last</th>\n",
       "      <td>NaN</td>\n",
       "      <td>NaN</td>\n",
       "      <td>2020-11-03 00:00:00</td>\n",
       "    </tr>\n",
       "  </tbody>\n",
       "</table>\n",
       "</div>"
      ],
      "text/plain": [
       "                                                      url  \\\n",
       "count                                                 971   \n",
       "unique                                                971   \n",
       "top     https://www.scottishbrickhistory.co.uk/cardros...   \n",
       "freq                                                    1   \n",
       "first                                                 NaN   \n",
       "last                                                  NaN   \n",
       "\n",
       "                                                    title                 time  \n",
       "count                                                 971                  971  \n",
       "unique                                                971                  526  \n",
       "top     Etna Brickworks, Bathville, Armadale, West Lot...  2018-11-20 00:00:00  \n",
       "freq                                                    1                   12  \n",
       "first                                                 NaN  2014-04-28 00:00:00  \n",
       "last                                                  NaN  2020-11-03 00:00:00  "
      ]
     },
     "execution_count": 11,
     "metadata": {},
     "output_type": "execute_result"
    }
   ],
   "source": [
    "data.describe()"
   ]
  },
  {
   "cell_type": "markdown",
   "metadata": {},
   "source": [
    "Get a simple description of the data set, mainly some statistics, count, unique value, high frequency value"
   ]
  },
  {
   "cell_type": "markdown",
   "metadata": {},
   "source": [
    "From this table, we can see that there are 971 URLs in total. The most frequent value in the top column is the article \"Shots and life brickworks shots North Lanarkshire\". Secondly, we can see the publishing time of the first and last article. From 2014 to November 2020, the article has been continuously published"
   ]
  },
  {
   "cell_type": "markdown",
   "metadata": {},
   "source": [
    "### 3. Posting time analysis"
   ]
  },
  {
   "cell_type": "code",
   "execution_count": 12,
   "metadata": {},
   "outputs": [],
   "source": [
    "time_data = data.groupby('time').size()"
   ]
  },
  {
   "cell_type": "code",
   "execution_count": 13,
   "metadata": {},
   "outputs": [],
   "source": [
    "year_data = time_data.groupby(lambda x: x.year).size()"
   ]
  },
  {
   "cell_type": "code",
   "execution_count": 14,
   "metadata": {},
   "outputs": [
    {
     "data": {
      "text/plain": [
       "2014     19\n",
       "2015     77\n",
       "2016     92\n",
       "2017    122\n",
       "2018    107\n",
       "2019     70\n",
       "2020     39\n",
       "dtype: int64"
      ]
     },
     "execution_count": 14,
     "metadata": {},
     "output_type": "execute_result"
    }
   ],
   "source": [
    "year_data"
   ]
  },
  {
   "cell_type": "code",
   "execution_count": 15,
   "metadata": {
    "scrolled": false
   },
   "outputs": [
    {
     "data": {
      "application/vnd.plotly.v1+json": {
       "config": {
        "linkText": "Export to plot.ly",
        "plotlyServerURL": "https://plot.ly",
        "showLink": true
       },
       "data": [
        {
         "marker": {
          "color": "rgba(0, 128, 240, 0.6)",
          "line": {
           "color": "rgba(0, 128, 240, 1.0)",
           "width": 1
          }
         },
         "name": "None",
         "orientation": "v",
         "text": "",
         "type": "bar",
         "x": [
          2014,
          2015,
          2016,
          2017,
          2018,
          2019,
          2020
         ],
         "y": [
          19,
          77,
          92,
          122,
          107,
          70,
          39
         ]
        }
       ],
       "layout": {
        "legend": {
         "bgcolor": "#F2F3F7",
         "font": {
          "color": "#505050"
         }
        },
        "paper_bgcolor": "#F2F3F7",
        "plot_bgcolor": "#F2F3F7",
        "template": {
         "data": {
          "bar": [
           {
            "error_x": {
             "color": "#2a3f5f"
            },
            "error_y": {
             "color": "#2a3f5f"
            },
            "marker": {
             "line": {
              "color": "#E5ECF6",
              "width": 0.5
             }
            },
            "type": "bar"
           }
          ],
          "barpolar": [
           {
            "marker": {
             "line": {
              "color": "#E5ECF6",
              "width": 0.5
             }
            },
            "type": "barpolar"
           }
          ],
          "carpet": [
           {
            "aaxis": {
             "endlinecolor": "#2a3f5f",
             "gridcolor": "white",
             "linecolor": "white",
             "minorgridcolor": "white",
             "startlinecolor": "#2a3f5f"
            },
            "baxis": {
             "endlinecolor": "#2a3f5f",
             "gridcolor": "white",
             "linecolor": "white",
             "minorgridcolor": "white",
             "startlinecolor": "#2a3f5f"
            },
            "type": "carpet"
           }
          ],
          "choropleth": [
           {
            "colorbar": {
             "outlinewidth": 0,
             "ticks": ""
            },
            "type": "choropleth"
           }
          ],
          "contour": [
           {
            "colorbar": {
             "outlinewidth": 0,
             "ticks": ""
            },
            "colorscale": [
             [
              0,
              "#0d0887"
             ],
             [
              0.1111111111111111,
              "#46039f"
             ],
             [
              0.2222222222222222,
              "#7201a8"
             ],
             [
              0.3333333333333333,
              "#9c179e"
             ],
             [
              0.4444444444444444,
              "#bd3786"
             ],
             [
              0.5555555555555556,
              "#d8576b"
             ],
             [
              0.6666666666666666,
              "#ed7953"
             ],
             [
              0.7777777777777778,
              "#fb9f3a"
             ],
             [
              0.8888888888888888,
              "#fdca26"
             ],
             [
              1,
              "#f0f921"
             ]
            ],
            "type": "contour"
           }
          ],
          "contourcarpet": [
           {
            "colorbar": {
             "outlinewidth": 0,
             "ticks": ""
            },
            "type": "contourcarpet"
           }
          ],
          "heatmap": [
           {
            "colorbar": {
             "outlinewidth": 0,
             "ticks": ""
            },
            "colorscale": [
             [
              0,
              "#0d0887"
             ],
             [
              0.1111111111111111,
              "#46039f"
             ],
             [
              0.2222222222222222,
              "#7201a8"
             ],
             [
              0.3333333333333333,
              "#9c179e"
             ],
             [
              0.4444444444444444,
              "#bd3786"
             ],
             [
              0.5555555555555556,
              "#d8576b"
             ],
             [
              0.6666666666666666,
              "#ed7953"
             ],
             [
              0.7777777777777778,
              "#fb9f3a"
             ],
             [
              0.8888888888888888,
              "#fdca26"
             ],
             [
              1,
              "#f0f921"
             ]
            ],
            "type": "heatmap"
           }
          ],
          "heatmapgl": [
           {
            "colorbar": {
             "outlinewidth": 0,
             "ticks": ""
            },
            "colorscale": [
             [
              0,
              "#0d0887"
             ],
             [
              0.1111111111111111,
              "#46039f"
             ],
             [
              0.2222222222222222,
              "#7201a8"
             ],
             [
              0.3333333333333333,
              "#9c179e"
             ],
             [
              0.4444444444444444,
              "#bd3786"
             ],
             [
              0.5555555555555556,
              "#d8576b"
             ],
             [
              0.6666666666666666,
              "#ed7953"
             ],
             [
              0.7777777777777778,
              "#fb9f3a"
             ],
             [
              0.8888888888888888,
              "#fdca26"
             ],
             [
              1,
              "#f0f921"
             ]
            ],
            "type": "heatmapgl"
           }
          ],
          "histogram": [
           {
            "marker": {
             "colorbar": {
              "outlinewidth": 0,
              "ticks": ""
             }
            },
            "type": "histogram"
           }
          ],
          "histogram2d": [
           {
            "colorbar": {
             "outlinewidth": 0,
             "ticks": ""
            },
            "colorscale": [
             [
              0,
              "#0d0887"
             ],
             [
              0.1111111111111111,
              "#46039f"
             ],
             [
              0.2222222222222222,
              "#7201a8"
             ],
             [
              0.3333333333333333,
              "#9c179e"
             ],
             [
              0.4444444444444444,
              "#bd3786"
             ],
             [
              0.5555555555555556,
              "#d8576b"
             ],
             [
              0.6666666666666666,
              "#ed7953"
             ],
             [
              0.7777777777777778,
              "#fb9f3a"
             ],
             [
              0.8888888888888888,
              "#fdca26"
             ],
             [
              1,
              "#f0f921"
             ]
            ],
            "type": "histogram2d"
           }
          ],
          "histogram2dcontour": [
           {
            "colorbar": {
             "outlinewidth": 0,
             "ticks": ""
            },
            "colorscale": [
             [
              0,
              "#0d0887"
             ],
             [
              0.1111111111111111,
              "#46039f"
             ],
             [
              0.2222222222222222,
              "#7201a8"
             ],
             [
              0.3333333333333333,
              "#9c179e"
             ],
             [
              0.4444444444444444,
              "#bd3786"
             ],
             [
              0.5555555555555556,
              "#d8576b"
             ],
             [
              0.6666666666666666,
              "#ed7953"
             ],
             [
              0.7777777777777778,
              "#fb9f3a"
             ],
             [
              0.8888888888888888,
              "#fdca26"
             ],
             [
              1,
              "#f0f921"
             ]
            ],
            "type": "histogram2dcontour"
           }
          ],
          "mesh3d": [
           {
            "colorbar": {
             "outlinewidth": 0,
             "ticks": ""
            },
            "type": "mesh3d"
           }
          ],
          "parcoords": [
           {
            "line": {
             "colorbar": {
              "outlinewidth": 0,
              "ticks": ""
             }
            },
            "type": "parcoords"
           }
          ],
          "pie": [
           {
            "automargin": true,
            "type": "pie"
           }
          ],
          "scatter": [
           {
            "marker": {
             "colorbar": {
              "outlinewidth": 0,
              "ticks": ""
             }
            },
            "type": "scatter"
           }
          ],
          "scatter3d": [
           {
            "line": {
             "colorbar": {
              "outlinewidth": 0,
              "ticks": ""
             }
            },
            "marker": {
             "colorbar": {
              "outlinewidth": 0,
              "ticks": ""
             }
            },
            "type": "scatter3d"
           }
          ],
          "scattercarpet": [
           {
            "marker": {
             "colorbar": {
              "outlinewidth": 0,
              "ticks": ""
             }
            },
            "type": "scattercarpet"
           }
          ],
          "scattergeo": [
           {
            "marker": {
             "colorbar": {
              "outlinewidth": 0,
              "ticks": ""
             }
            },
            "type": "scattergeo"
           }
          ],
          "scattergl": [
           {
            "marker": {
             "colorbar": {
              "outlinewidth": 0,
              "ticks": ""
             }
            },
            "type": "scattergl"
           }
          ],
          "scattermapbox": [
           {
            "marker": {
             "colorbar": {
              "outlinewidth": 0,
              "ticks": ""
             }
            },
            "type": "scattermapbox"
           }
          ],
          "scatterpolar": [
           {
            "marker": {
             "colorbar": {
              "outlinewidth": 0,
              "ticks": ""
             }
            },
            "type": "scatterpolar"
           }
          ],
          "scatterpolargl": [
           {
            "marker": {
             "colorbar": {
              "outlinewidth": 0,
              "ticks": ""
             }
            },
            "type": "scatterpolargl"
           }
          ],
          "scatterternary": [
           {
            "marker": {
             "colorbar": {
              "outlinewidth": 0,
              "ticks": ""
             }
            },
            "type": "scatterternary"
           }
          ],
          "surface": [
           {
            "colorbar": {
             "outlinewidth": 0,
             "ticks": ""
            },
            "colorscale": [
             [
              0,
              "#0d0887"
             ],
             [
              0.1111111111111111,
              "#46039f"
             ],
             [
              0.2222222222222222,
              "#7201a8"
             ],
             [
              0.3333333333333333,
              "#9c179e"
             ],
             [
              0.4444444444444444,
              "#bd3786"
             ],
             [
              0.5555555555555556,
              "#d8576b"
             ],
             [
              0.6666666666666666,
              "#ed7953"
             ],
             [
              0.7777777777777778,
              "#fb9f3a"
             ],
             [
              0.8888888888888888,
              "#fdca26"
             ],
             [
              1,
              "#f0f921"
             ]
            ],
            "type": "surface"
           }
          ],
          "table": [
           {
            "cells": {
             "fill": {
              "color": "#EBF0F8"
             },
             "line": {
              "color": "white"
             }
            },
            "header": {
             "fill": {
              "color": "#C8D4E3"
             },
             "line": {
              "color": "white"
             }
            },
            "type": "table"
           }
          ]
         },
         "layout": {
          "annotationdefaults": {
           "arrowcolor": "#2a3f5f",
           "arrowhead": 0,
           "arrowwidth": 1
          },
          "coloraxis": {
           "colorbar": {
            "outlinewidth": 0,
            "ticks": ""
           }
          },
          "colorscale": {
           "diverging": [
            [
             0,
             "#8e0152"
            ],
            [
             0.1,
             "#c51b7d"
            ],
            [
             0.2,
             "#de77ae"
            ],
            [
             0.3,
             "#f1b6da"
            ],
            [
             0.4,
             "#fde0ef"
            ],
            [
             0.5,
             "#f7f7f7"
            ],
            [
             0.6,
             "#e6f5d0"
            ],
            [
             0.7,
             "#b8e186"
            ],
            [
             0.8,
             "#7fbc41"
            ],
            [
             0.9,
             "#4d9221"
            ],
            [
             1,
             "#276419"
            ]
           ],
           "sequential": [
            [
             0,
             "#0d0887"
            ],
            [
             0.1111111111111111,
             "#46039f"
            ],
            [
             0.2222222222222222,
             "#7201a8"
            ],
            [
             0.3333333333333333,
             "#9c179e"
            ],
            [
             0.4444444444444444,
             "#bd3786"
            ],
            [
             0.5555555555555556,
             "#d8576b"
            ],
            [
             0.6666666666666666,
             "#ed7953"
            ],
            [
             0.7777777777777778,
             "#fb9f3a"
            ],
            [
             0.8888888888888888,
             "#fdca26"
            ],
            [
             1,
             "#f0f921"
            ]
           ],
           "sequentialminus": [
            [
             0,
             "#0d0887"
            ],
            [
             0.1111111111111111,
             "#46039f"
            ],
            [
             0.2222222222222222,
             "#7201a8"
            ],
            [
             0.3333333333333333,
             "#9c179e"
            ],
            [
             0.4444444444444444,
             "#bd3786"
            ],
            [
             0.5555555555555556,
             "#d8576b"
            ],
            [
             0.6666666666666666,
             "#ed7953"
            ],
            [
             0.7777777777777778,
             "#fb9f3a"
            ],
            [
             0.8888888888888888,
             "#fdca26"
            ],
            [
             1,
             "#f0f921"
            ]
           ]
          },
          "colorway": [
           "#636efa",
           "#EF553B",
           "#00cc96",
           "#ab63fa",
           "#FFA15A",
           "#19d3f3",
           "#FF6692",
           "#B6E880",
           "#FF97FF",
           "#FECB52"
          ],
          "font": {
           "color": "#2a3f5f"
          },
          "geo": {
           "bgcolor": "white",
           "lakecolor": "white",
           "landcolor": "#E5ECF6",
           "showlakes": true,
           "showland": true,
           "subunitcolor": "white"
          },
          "hoverlabel": {
           "align": "left"
          },
          "hovermode": "closest",
          "mapbox": {
           "style": "light"
          },
          "paper_bgcolor": "white",
          "plot_bgcolor": "#E5ECF6",
          "polar": {
           "angularaxis": {
            "gridcolor": "white",
            "linecolor": "white",
            "ticks": ""
           },
           "bgcolor": "#E5ECF6",
           "radialaxis": {
            "gridcolor": "white",
            "linecolor": "white",
            "ticks": ""
           }
          },
          "scene": {
           "xaxis": {
            "backgroundcolor": "#E5ECF6",
            "gridcolor": "white",
            "gridwidth": 2,
            "linecolor": "white",
            "showbackground": true,
            "ticks": "",
            "zerolinecolor": "white"
           },
           "yaxis": {
            "backgroundcolor": "#E5ECF6",
            "gridcolor": "white",
            "gridwidth": 2,
            "linecolor": "white",
            "showbackground": true,
            "ticks": "",
            "zerolinecolor": "white"
           },
           "zaxis": {
            "backgroundcolor": "#E5ECF6",
            "gridcolor": "white",
            "gridwidth": 2,
            "linecolor": "white",
            "showbackground": true,
            "ticks": "",
            "zerolinecolor": "white"
           }
          },
          "shapedefaults": {
           "line": {
            "color": "#2a3f5f"
           }
          },
          "ternary": {
           "aaxis": {
            "gridcolor": "white",
            "linecolor": "white",
            "ticks": ""
           },
           "baxis": {
            "gridcolor": "white",
            "linecolor": "white",
            "ticks": ""
           },
           "bgcolor": "#E5ECF6",
           "caxis": {
            "gridcolor": "white",
            "linecolor": "white",
            "ticks": ""
           }
          },
          "title": {
           "x": 0.05
          },
          "xaxis": {
           "automargin": true,
           "gridcolor": "white",
           "linecolor": "white",
           "ticks": "",
           "title": {
            "standoff": 15
           },
           "zerolinecolor": "white",
           "zerolinewidth": 2
          },
          "yaxis": {
           "automargin": true,
           "gridcolor": "white",
           "linecolor": "white",
           "ticks": "",
           "title": {
            "standoff": 15
           },
           "zerolinecolor": "white",
           "zerolinewidth": 2
          }
         }
        },
        "title": {
         "font": {
          "color": "#484848"
         },
         "text": "articles distribution"
        },
        "xaxis": {
         "gridcolor": "#E1E5ED",
         "showgrid": true,
         "tickfont": {
          "color": "#505050"
         },
         "title": {
          "font": {
           "color": "#505050"
          },
          "text": "year"
         },
         "zerolinecolor": "#E1E5ED"
        },
        "yaxis": {
         "gridcolor": "#E1E5ED",
         "showgrid": true,
         "tickfont": {
          "color": "#505050"
         },
         "title": {
          "font": {
           "color": "#505050"
          },
          "text": "articles"
         },
         "zerolinecolor": "#E1E5ED"
        }
       }
      },
      "text/html": [
       "<div>                            <div id=\"4e2b9eb3-4a86-4eb0-aaff-11f21ea8f1ce\" class=\"plotly-graph-div\" style=\"height:525px; width:100%;\"></div>            <script type=\"text/javascript\">                require([\"plotly\"], function(Plotly) {                    window.PLOTLYENV=window.PLOTLYENV || {};\n",
       "                    window.PLOTLYENV.BASE_URL='https://plot.ly';                                    if (document.getElementById(\"4e2b9eb3-4a86-4eb0-aaff-11f21ea8f1ce\")) {                    Plotly.newPlot(                        \"4e2b9eb3-4a86-4eb0-aaff-11f21ea8f1ce\",                        [{\"marker\": {\"color\": \"rgba(0, 128, 240, 0.6)\", \"line\": {\"color\": \"rgba(0, 128, 240, 1.0)\", \"width\": 1}}, \"name\": \"None\", \"orientation\": \"v\", \"text\": \"\", \"type\": \"bar\", \"x\": [2014, 2015, 2016, 2017, 2018, 2019, 2020], \"y\": [19, 77, 92, 122, 107, 70, 39]}],                        {\"legend\": {\"bgcolor\": \"#F2F3F7\", \"font\": {\"color\": \"#505050\"}}, \"paper_bgcolor\": \"#F2F3F7\", \"plot_bgcolor\": \"#F2F3F7\", \"template\": {\"data\": {\"bar\": [{\"error_x\": {\"color\": \"#2a3f5f\"}, \"error_y\": {\"color\": \"#2a3f5f\"}, \"marker\": {\"line\": {\"color\": \"#E5ECF6\", \"width\": 0.5}}, \"type\": \"bar\"}], \"barpolar\": [{\"marker\": {\"line\": {\"color\": \"#E5ECF6\", \"width\": 0.5}}, \"type\": \"barpolar\"}], \"carpet\": [{\"aaxis\": {\"endlinecolor\": \"#2a3f5f\", \"gridcolor\": \"white\", \"linecolor\": \"white\", \"minorgridcolor\": \"white\", \"startlinecolor\": \"#2a3f5f\"}, \"baxis\": {\"endlinecolor\": \"#2a3f5f\", \"gridcolor\": \"white\", \"linecolor\": \"white\", \"minorgridcolor\": \"white\", \"startlinecolor\": \"#2a3f5f\"}, \"type\": \"carpet\"}], \"choropleth\": [{\"colorbar\": {\"outlinewidth\": 0, \"ticks\": \"\"}, \"type\": \"choropleth\"}], \"contour\": [{\"colorbar\": {\"outlinewidth\": 0, \"ticks\": \"\"}, \"colorscale\": [[0.0, \"#0d0887\"], [0.1111111111111111, \"#46039f\"], [0.2222222222222222, \"#7201a8\"], [0.3333333333333333, \"#9c179e\"], [0.4444444444444444, \"#bd3786\"], [0.5555555555555556, \"#d8576b\"], [0.6666666666666666, \"#ed7953\"], [0.7777777777777778, \"#fb9f3a\"], [0.8888888888888888, \"#fdca26\"], [1.0, \"#f0f921\"]], \"type\": \"contour\"}], \"contourcarpet\": [{\"colorbar\": {\"outlinewidth\": 0, \"ticks\": \"\"}, \"type\": \"contourcarpet\"}], \"heatmap\": [{\"colorbar\": {\"outlinewidth\": 0, \"ticks\": \"\"}, \"colorscale\": [[0.0, \"#0d0887\"], [0.1111111111111111, \"#46039f\"], [0.2222222222222222, \"#7201a8\"], [0.3333333333333333, \"#9c179e\"], [0.4444444444444444, \"#bd3786\"], [0.5555555555555556, \"#d8576b\"], [0.6666666666666666, \"#ed7953\"], [0.7777777777777778, \"#fb9f3a\"], [0.8888888888888888, \"#fdca26\"], [1.0, \"#f0f921\"]], \"type\": \"heatmap\"}], \"heatmapgl\": [{\"colorbar\": {\"outlinewidth\": 0, \"ticks\": \"\"}, \"colorscale\": [[0.0, \"#0d0887\"], [0.1111111111111111, \"#46039f\"], [0.2222222222222222, \"#7201a8\"], [0.3333333333333333, \"#9c179e\"], [0.4444444444444444, \"#bd3786\"], [0.5555555555555556, \"#d8576b\"], [0.6666666666666666, \"#ed7953\"], [0.7777777777777778, \"#fb9f3a\"], [0.8888888888888888, \"#fdca26\"], [1.0, \"#f0f921\"]], \"type\": \"heatmapgl\"}], \"histogram\": [{\"marker\": {\"colorbar\": {\"outlinewidth\": 0, \"ticks\": \"\"}}, \"type\": \"histogram\"}], \"histogram2d\": [{\"colorbar\": {\"outlinewidth\": 0, \"ticks\": \"\"}, \"colorscale\": [[0.0, \"#0d0887\"], [0.1111111111111111, \"#46039f\"], [0.2222222222222222, \"#7201a8\"], [0.3333333333333333, \"#9c179e\"], [0.4444444444444444, \"#bd3786\"], [0.5555555555555556, \"#d8576b\"], [0.6666666666666666, \"#ed7953\"], [0.7777777777777778, \"#fb9f3a\"], [0.8888888888888888, \"#fdca26\"], [1.0, \"#f0f921\"]], \"type\": \"histogram2d\"}], \"histogram2dcontour\": [{\"colorbar\": {\"outlinewidth\": 0, \"ticks\": \"\"}, \"colorscale\": [[0.0, \"#0d0887\"], [0.1111111111111111, \"#46039f\"], [0.2222222222222222, \"#7201a8\"], [0.3333333333333333, \"#9c179e\"], [0.4444444444444444, \"#bd3786\"], [0.5555555555555556, \"#d8576b\"], [0.6666666666666666, \"#ed7953\"], [0.7777777777777778, \"#fb9f3a\"], [0.8888888888888888, \"#fdca26\"], [1.0, \"#f0f921\"]], \"type\": \"histogram2dcontour\"}], \"mesh3d\": [{\"colorbar\": {\"outlinewidth\": 0, \"ticks\": \"\"}, \"type\": \"mesh3d\"}], \"parcoords\": [{\"line\": {\"colorbar\": {\"outlinewidth\": 0, \"ticks\": \"\"}}, \"type\": \"parcoords\"}], \"pie\": [{\"automargin\": true, \"type\": \"pie\"}], \"scatter\": [{\"marker\": {\"colorbar\": {\"outlinewidth\": 0, \"ticks\": \"\"}}, \"type\": \"scatter\"}], \"scatter3d\": [{\"line\": {\"colorbar\": {\"outlinewidth\": 0, \"ticks\": \"\"}}, \"marker\": {\"colorbar\": {\"outlinewidth\": 0, \"ticks\": \"\"}}, \"type\": \"scatter3d\"}], \"scattercarpet\": [{\"marker\": {\"colorbar\": {\"outlinewidth\": 0, \"ticks\": \"\"}}, \"type\": \"scattercarpet\"}], \"scattergeo\": [{\"marker\": {\"colorbar\": {\"outlinewidth\": 0, \"ticks\": \"\"}}, \"type\": \"scattergeo\"}], \"scattergl\": [{\"marker\": {\"colorbar\": {\"outlinewidth\": 0, \"ticks\": \"\"}}, \"type\": \"scattergl\"}], \"scattermapbox\": [{\"marker\": {\"colorbar\": {\"outlinewidth\": 0, \"ticks\": \"\"}}, \"type\": \"scattermapbox\"}], \"scatterpolar\": [{\"marker\": {\"colorbar\": {\"outlinewidth\": 0, \"ticks\": \"\"}}, \"type\": \"scatterpolar\"}], \"scatterpolargl\": [{\"marker\": {\"colorbar\": {\"outlinewidth\": 0, \"ticks\": \"\"}}, \"type\": \"scatterpolargl\"}], \"scatterternary\": [{\"marker\": {\"colorbar\": {\"outlinewidth\": 0, \"ticks\": \"\"}}, \"type\": \"scatterternary\"}], \"surface\": [{\"colorbar\": {\"outlinewidth\": 0, \"ticks\": \"\"}, \"colorscale\": [[0.0, \"#0d0887\"], [0.1111111111111111, \"#46039f\"], [0.2222222222222222, \"#7201a8\"], [0.3333333333333333, \"#9c179e\"], [0.4444444444444444, \"#bd3786\"], [0.5555555555555556, \"#d8576b\"], [0.6666666666666666, \"#ed7953\"], [0.7777777777777778, \"#fb9f3a\"], [0.8888888888888888, \"#fdca26\"], [1.0, \"#f0f921\"]], \"type\": \"surface\"}], \"table\": [{\"cells\": {\"fill\": {\"color\": \"#EBF0F8\"}, \"line\": {\"color\": \"white\"}}, \"header\": {\"fill\": {\"color\": \"#C8D4E3\"}, \"line\": {\"color\": \"white\"}}, \"type\": \"table\"}]}, \"layout\": {\"annotationdefaults\": {\"arrowcolor\": \"#2a3f5f\", \"arrowhead\": 0, \"arrowwidth\": 1}, \"coloraxis\": {\"colorbar\": {\"outlinewidth\": 0, \"ticks\": \"\"}}, \"colorscale\": {\"diverging\": [[0, \"#8e0152\"], [0.1, \"#c51b7d\"], [0.2, \"#de77ae\"], [0.3, \"#f1b6da\"], [0.4, \"#fde0ef\"], [0.5, \"#f7f7f7\"], [0.6, \"#e6f5d0\"], [0.7, \"#b8e186\"], [0.8, \"#7fbc41\"], [0.9, \"#4d9221\"], [1, \"#276419\"]], \"sequential\": [[0.0, \"#0d0887\"], [0.1111111111111111, \"#46039f\"], [0.2222222222222222, \"#7201a8\"], [0.3333333333333333, \"#9c179e\"], [0.4444444444444444, \"#bd3786\"], [0.5555555555555556, \"#d8576b\"], [0.6666666666666666, \"#ed7953\"], [0.7777777777777778, \"#fb9f3a\"], [0.8888888888888888, \"#fdca26\"], [1.0, \"#f0f921\"]], \"sequentialminus\": [[0.0, \"#0d0887\"], [0.1111111111111111, \"#46039f\"], [0.2222222222222222, \"#7201a8\"], [0.3333333333333333, \"#9c179e\"], [0.4444444444444444, \"#bd3786\"], [0.5555555555555556, \"#d8576b\"], [0.6666666666666666, \"#ed7953\"], [0.7777777777777778, \"#fb9f3a\"], [0.8888888888888888, \"#fdca26\"], [1.0, \"#f0f921\"]]}, \"colorway\": [\"#636efa\", \"#EF553B\", \"#00cc96\", \"#ab63fa\", \"#FFA15A\", \"#19d3f3\", \"#FF6692\", \"#B6E880\", \"#FF97FF\", \"#FECB52\"], \"font\": {\"color\": \"#2a3f5f\"}, \"geo\": {\"bgcolor\": \"white\", \"lakecolor\": \"white\", \"landcolor\": \"#E5ECF6\", \"showlakes\": true, \"showland\": true, \"subunitcolor\": \"white\"}, \"hoverlabel\": {\"align\": \"left\"}, \"hovermode\": \"closest\", \"mapbox\": {\"style\": \"light\"}, \"paper_bgcolor\": \"white\", \"plot_bgcolor\": \"#E5ECF6\", \"polar\": {\"angularaxis\": {\"gridcolor\": \"white\", \"linecolor\": \"white\", \"ticks\": \"\"}, \"bgcolor\": \"#E5ECF6\", \"radialaxis\": {\"gridcolor\": \"white\", \"linecolor\": \"white\", \"ticks\": \"\"}}, \"scene\": {\"xaxis\": {\"backgroundcolor\": \"#E5ECF6\", \"gridcolor\": \"white\", \"gridwidth\": 2, \"linecolor\": \"white\", \"showbackground\": true, \"ticks\": \"\", \"zerolinecolor\": \"white\"}, \"yaxis\": {\"backgroundcolor\": \"#E5ECF6\", \"gridcolor\": \"white\", \"gridwidth\": 2, \"linecolor\": \"white\", \"showbackground\": true, \"ticks\": \"\", \"zerolinecolor\": \"white\"}, \"zaxis\": {\"backgroundcolor\": \"#E5ECF6\", \"gridcolor\": \"white\", \"gridwidth\": 2, \"linecolor\": \"white\", \"showbackground\": true, \"ticks\": \"\", \"zerolinecolor\": \"white\"}}, \"shapedefaults\": {\"line\": {\"color\": \"#2a3f5f\"}}, \"ternary\": {\"aaxis\": {\"gridcolor\": \"white\", \"linecolor\": \"white\", \"ticks\": \"\"}, \"baxis\": {\"gridcolor\": \"white\", \"linecolor\": \"white\", \"ticks\": \"\"}, \"bgcolor\": \"#E5ECF6\", \"caxis\": {\"gridcolor\": \"white\", \"linecolor\": \"white\", \"ticks\": \"\"}}, \"title\": {\"x\": 0.05}, \"xaxis\": {\"automargin\": true, \"gridcolor\": \"white\", \"linecolor\": \"white\", \"ticks\": \"\", \"title\": {\"standoff\": 15}, \"zerolinecolor\": \"white\", \"zerolinewidth\": 2}, \"yaxis\": {\"automargin\": true, \"gridcolor\": \"white\", \"linecolor\": \"white\", \"ticks\": \"\", \"title\": {\"standoff\": 15}, \"zerolinecolor\": \"white\", \"zerolinewidth\": 2}}}, \"title\": {\"font\": {\"color\": \"#484848\"}, \"text\": \"articles distribution\"}, \"xaxis\": {\"gridcolor\": \"#E1E5ED\", \"showgrid\": true, \"tickfont\": {\"color\": \"#505050\"}, \"title\": {\"font\": {\"color\": \"#505050\"}, \"text\": \"year\"}, \"zerolinecolor\": \"#E1E5ED\"}, \"yaxis\": {\"gridcolor\": \"#E1E5ED\", \"showgrid\": true, \"tickfont\": {\"color\": \"#505050\"}, \"title\": {\"font\": {\"color\": \"#505050\"}, \"text\": \"articles\"}, \"zerolinecolor\": \"#E1E5ED\"}},                        {\"showLink\": true, \"linkText\": \"Export to plot.ly\", \"plotlyServerURL\": \"https://plot.ly\", \"responsive\": true}                    ).then(function(){\n",
       "                            \n",
       "var gd = document.getElementById('4e2b9eb3-4a86-4eb0-aaff-11f21ea8f1ce');\n",
       "var x = new MutationObserver(function (mutations, observer) {{\n",
       "        var display = window.getComputedStyle(gd).display;\n",
       "        if (!display || display === 'none') {{\n",
       "            console.log([gd, 'removed!']);\n",
       "            Plotly.purge(gd);\n",
       "            observer.disconnect();\n",
       "        }}\n",
       "}});\n",
       "\n",
       "// Listen for the removal of the full notebook cells\n",
       "var notebookContainer = gd.closest('#notebook-container');\n",
       "if (notebookContainer) {{\n",
       "    x.observe(notebookContainer, {childList: true});\n",
       "}}\n",
       "\n",
       "// Listen for the clearing of the current output cell\n",
       "var outputEl = gd.closest('.output');\n",
       "if (outputEl) {{\n",
       "    x.observe(outputEl, {childList: true});\n",
       "}}\n",
       "\n",
       "                        })                };                });            </script>        </div>"
      ]
     },
     "metadata": {},
     "output_type": "display_data"
    }
   ],
   "source": [
    "year_data.iplot(kind='bar', title='articles distribution', xTitle='year', yTitle='articles', theme='polar')"
   ]
  },
  {
   "cell_type": "markdown",
   "metadata": {},
   "source": [
    "The number of articles published on the Scotland's Brick and Tile Manufacturing Industry in different years has increased rapidly since 2014, with the largest number in 2017, reaching the peak, and then gradually decreasing"
   ]
  },
  {
   "cell_type": "markdown",
   "metadata": {},
   "source": [
    " "
   ]
  },
  {
   "cell_type": "markdown",
   "metadata": {},
   "source": [
    "### 4. Title keywords analysis"
   ]
  },
  {
   "cell_type": "code",
   "execution_count": 16,
   "metadata": {},
   "outputs": [],
   "source": [
    "text_cut = ' '.join(data['title'].str.split(',| ').sum())"
   ]
  },
  {
   "cell_type": "code",
   "execution_count": 17,
   "metadata": {},
   "outputs": [
    {
     "data": {
      "text/plain": [
       "               2160\n",
       "and             353\n",
       "Works           324\n",
       "Brick           310\n",
       "Brickworks      305\n",
       "               ... \n",
       "Highfield         1\n",
       "Lassodie          1\n",
       "Gilmour           1\n",
       "seams             1\n",
       "Milnquarter       1\n",
       "Length: 1583, dtype: int64"
      ]
     },
     "execution_count": 17,
     "metadata": {},
     "output_type": "execute_result"
    }
   ],
   "source": [
    "pd.value_counts(data['title'].str.split(',| ').sum())"
   ]
  },
  {
   "cell_type": "code",
   "execution_count": 18,
   "metadata": {},
   "outputs": [],
   "source": [
    "stop_words = ['', 'and']"
   ]
  },
  {
   "cell_type": "code",
   "execution_count": 19,
   "metadata": {},
   "outputs": [],
   "source": [
    "font_path=\"/System/Library/fonts/PingFang.ttc\""
   ]
  },
  {
   "cell_type": "code",
   "execution_count": 20,
   "metadata": {},
   "outputs": [
    {
     "data": {
      "text/plain": [
       "<wordcloud.wordcloud.WordCloud at 0x120f4a040>"
      ]
     },
     "execution_count": 20,
     "metadata": {},
     "output_type": "execute_result"
    }
   ],
   "source": [
    "word_cloud = WordCloud(font_path=\"PingFang\",  \n",
    "                       background_color=\"white\", \n",
    "                       stopwords=stop_words) \n",
    "word_cloud.generate(text_cut)"
   ]
  },
  {
   "cell_type": "code",
   "execution_count": 21,
   "metadata": {
    "scrolled": true
   },
   "outputs": [
    {
     "data": {
      "text/plain": [
       "(-0.5, 399.5, 199.5, -0.5)"
      ]
     },
     "execution_count": 21,
     "metadata": {},
     "output_type": "execute_result"
    },
    {
     "data": {
      "image/png": "[encoded data removed]",
      "text/plain": [
       "<Figure size 720x432 with 1 Axes>"
      ]
     },
     "metadata": {
      "needs_background": "light"
     },
     "output_type": "display_data"
    }
   ],
   "source": [
    "plt.subplots(figsize=(10,6))\n",
    "plt.imshow(word_cloud)\n",
    "plt.axis(\"off\")"
   ]
  },
  {
   "cell_type": "markdown",
   "metadata": {},
   "source": [
    "I use the WordCloud to make a visual display. The obvious words in it are Brickwork; Brick; Tilework; Glasgow; North Lanarkshire; South Lanarkshire..."
   ]
  },
  {
   "cell_type": "markdown",
   "metadata": {},
   "source": [
    "Brickwork and brick are obviously the themes of the website, which describe bricks in Scotland. Most of the others are locations"
   ]
  },
  {
   "cell_type": "markdown",
   "metadata": {},
   "source": [
    "### 5. Visual analysis of the location"
   ]
  },
  {
   "cell_type": "markdown",
   "metadata": {},
   "source": [
    "I plan to find out where most of the factories and bricks used to be by calculating the most common names in the title"
   ]
  },
  {
   "cell_type": "markdown",
   "metadata": {},
   "source": [
    "The design idea of our group discussion is to design a map of Scotland to express our data, so I'd like to try using the data that I can analyze now"
   ]
  },
  {
   "cell_type": "code",
   "execution_count": 22,
   "metadata": {},
   "outputs": [],
   "source": [
    "from collections import Counter\n",
    "\n",
    "place_counter = Counter()\n",
    "\n",
    "for t in data.title:\n",
    "    place_counter.update(t.split(', '))"
   ]
  },
  {
   "cell_type": "code",
   "execution_count": 23,
   "metadata": {},
   "outputs": [
    {
     "data": {
      "text/plain": [
       "[('Glasgow', 144),\n",
       " ('North Lanarkshire', 88),\n",
       " ('South Lanarkshire', 72),\n",
       " ('Stirlingshire', 62),\n",
       " ('Fife', 54),\n",
       " ('East Ayrshire', 44),\n",
       " ('Falkirk', 40),\n",
       " ('North Ayrshire', 38),\n",
       " ('West Lothian', 31),\n",
       " ('East Lothian', 30),\n",
       " ('Scottish Borders', 28),\n",
       " ('Glasgow.', 23),\n",
       " ('Coatbridge', 21),\n",
       " ('Paisley', 20),\n",
       " ('Renfrewshire', 19),\n",
       " ('South Ayrshire', 18),\n",
       " ('Bonnybridge', 18),\n",
       " ('Carluke', 18),\n",
       " ('Larkhall', 17),\n",
       " ('Edinburgh', 16)]"
      ]
     },
     "execution_count": 23,
     "metadata": {},
     "output_type": "execute_result"
    }
   ],
   "source": [
    "place_counter.most_common(20)"
   ]
  },
  {
   "cell_type": "markdown",
   "metadata": {},
   "source": [
    "This way I obtained the top 20 most common place names, and this first one is 'Glasgow', show up 144 times."
   ]
  },
  {
   "cell_type": "markdown",
   "metadata": {},
   "source": [
    "Problems: I want to use pyecharts for map visualization, but I can't display the map of England no matter how I do it. But it's very convenient to import Chinese maps and display them clearly. Even if I add ''pip install echarts-united-kingdom-pypkg'', it's not work. \n",
    "I may discuss other convenient map visualization methods with my teammates later in the formal design."
   ]
  },
  {
   "cell_type": "markdown",
   "metadata": {},
   "source": [
    "Now try to use Folium, but this requires specific coordinates, so I have to manually search the coordinates of these 20 places (hope there is a better way)"
   ]
  },
  {
   "cell_type": "markdown",
   "metadata": {},
   "source": [
    " "
   ]
  },
  {
   "cell_type": "code",
   "execution_count": 24,
   "metadata": {},
   "outputs": [
    {
     "name": "stdout",
     "output_type": "stream",
     "text": [
      "             location  frequency      X     Y      coordinate\n",
      "0             Glasgow        144  55.89 -4.27  (55.89, -4.27)\n",
      "1   North Lanarkshire         88  55.89 -4.15  (55.89, -4.15)\n",
      "2   South Lanarkshire         72  55.73 -4.14  (55.73, -4.14)\n",
      "3       Stirlingshire         62  56.49 -5.12  (56.49, -5.12)\n",
      "4                Fife         54  56.34 -3.48  (56.34, -3.48)\n",
      "5       East Ayrshire         44  55.74 -4.66  (55.74, -4.66)\n",
      "6             Falkirk         40  56.02 -3.85  (56.02, -3.85)\n",
      "7      North Ayrshire         38  55.82 -5.38  (55.82, -5.38)\n",
      "8        West Lothian         31  55.95 -3.83  (55.95, -3.83)\n",
      "9        East Lothian         30  56.00 -3.10    (56.0, -3.1)\n",
      "10   Scottish Borders         28  55.69 -3.98  (55.69, -3.98)\n",
      "11           Glasgow.         23  55.90 -4.53   (55.9, -4.53)\n",
      "12         Coatbridge         21  55.88 -4.09  (55.88, -4.09)\n",
      "13            Paisley         20  55.87 -4.51  (55.87, -4.51)\n",
      "14       Renfrewshire         19  55.91 -4.85  (55.91, -4.85)\n",
      "15     South Ayrshire         18  55.58 -5.73  (55.58, -5.73)\n",
      "16        Bonnybridge         18  56.01 -3.92  (56.01, -3.92)\n",
      "17            Carluke         18  55.75 -3.88  (55.75, -3.88)\n",
      "18           Larkhall         17  55.76 -4.03  (55.76, -4.03)\n",
      "19          Edinburgh         16  55.96 -3.27  (55.96, -3.27)\n"
     ]
    },
    {
     "data": {
      "text/html": [
       "<div>\n",
       "<style scoped>\n",
       "    .dataframe tbody tr th:only-of-type {\n",
       "        vertical-align: middle;\n",
       "    }\n",
       "\n",
       "    .dataframe tbody tr th {\n",
       "        vertical-align: top;\n",
       "    }\n",
       "\n",
       "    .dataframe thead th {\n",
       "        text-align: right;\n",
       "    }\n",
       "</style>\n",
       "<table border=\"1\" class=\"dataframe\">\n",
       "  <thead>\n",
       "    <tr style=\"text-align: right;\">\n",
       "      <th></th>\n",
       "      <th>location</th>\n",
       "      <th>frequency</th>\n",
       "      <th>X</th>\n",
       "      <th>Y</th>\n",
       "      <th>coordinate</th>\n",
       "    </tr>\n",
       "  </thead>\n",
       "  <tbody>\n",
       "    <tr>\n",
       "      <th>0</th>\n",
       "      <td>Glasgow</td>\n",
       "      <td>144</td>\n",
       "      <td>55.89</td>\n",
       "      <td>-4.27</td>\n",
       "      <td>(55.89, -4.27)</td>\n",
       "    </tr>\n",
       "    <tr>\n",
       "      <th>1</th>\n",
       "      <td>North Lanarkshire</td>\n",
       "      <td>88</td>\n",
       "      <td>55.89</td>\n",
       "      <td>-4.15</td>\n",
       "      <td>(55.89, -4.15)</td>\n",
       "    </tr>\n",
       "    <tr>\n",
       "      <th>2</th>\n",
       "      <td>South Lanarkshire</td>\n",
       "      <td>72</td>\n",
       "      <td>55.73</td>\n",
       "      <td>-4.14</td>\n",
       "      <td>(55.73, -4.14)</td>\n",
       "    </tr>\n",
       "    <tr>\n",
       "      <th>3</th>\n",
       "      <td>Stirlingshire</td>\n",
       "      <td>62</td>\n",
       "      <td>56.49</td>\n",
       "      <td>-5.12</td>\n",
       "      <td>(56.49, -5.12)</td>\n",
       "    </tr>\n",
       "    <tr>\n",
       "      <th>4</th>\n",
       "      <td>Fife</td>\n",
       "      <td>54</td>\n",
       "      <td>56.34</td>\n",
       "      <td>-3.48</td>\n",
       "      <td>(56.34, -3.48)</td>\n",
       "    </tr>\n",
       "  </tbody>\n",
       "</table>\n",
       "</div>"
      ],
      "text/plain": [
       "            location  frequency      X     Y      coordinate\n",
       "0            Glasgow        144  55.89 -4.27  (55.89, -4.27)\n",
       "1  North Lanarkshire         88  55.89 -4.15  (55.89, -4.15)\n",
       "2  South Lanarkshire         72  55.73 -4.14  (55.73, -4.14)\n",
       "3      Stirlingshire         62  56.49 -5.12  (56.49, -5.12)\n",
       "4               Fife         54  56.34 -3.48  (56.34, -3.48)"
      ]
     },
     "execution_count": 24,
     "metadata": {},
     "output_type": "execute_result"
    }
   ],
   "source": [
    "from pandas.core.frame import DataFrame\n",
    "a=[('Glasgow', 144),\n",
    " ('North Lanarkshire', 88),\n",
    " ('South Lanarkshire', 72),\n",
    " ('Stirlingshire', 62),\n",
    " ('Fife', 54),\n",
    " ('East Ayrshire', 44),\n",
    " ('Falkirk', 40),\n",
    " ('North Ayrshire', 38),\n",
    " ('West Lothian', 31),\n",
    " ('East Lothian', 30),\n",
    " ('Scottish Borders', 28),\n",
    " ('Glasgow.', 23),\n",
    " ('Coatbridge', 21),\n",
    " ('Paisley', 20),\n",
    " ('Renfrewshire', 19),\n",
    " ('South Ayrshire', 18),\n",
    " ('Bonnybridge', 18),\n",
    " ('Carluke', 18),\n",
    " ('Larkhall', 17),\n",
    " ('Edinburgh', 16)]\n",
    "loc=DataFrame(a)\n",
    "loc['X'], loc['Y'], loc['coordinate'] = [(55.89,55.89,55.73,56.49,56.34,55.74,56.02,55.82,55.95,56.00,55.69,55.90,55.88,55.87,55.91,55.58,56.01,55.75,55.76,55.96),\n",
    "                                         (-4.27,-4.15,-4.14,-5.12,-3.48,-4.66,-3.85,-5.38,-3.83,-3.10,-3.98,-4.53,-4.09,-4.51,-4.85,-5.73,-3.92,-3.88,-4.03,-3.27), \n",
    "                                         ((55.89, -4.27),(55.89, -4.15),(55.73, -4.14),(56.49, -5.12),(56.34, -3.48),(55.74, -4.66),(56.02, -3.85),\n",
    "              (55.82, -5.38),(55.95, -3.83),(56.00, -3.10),(55.69, -3.98),(55.90, -4.53),(55.88, -4.09),(55.87, -4.51),\n",
    "              (55.91, -4.85),(55.58, -5.73),(56.01, -3.92),(55.75, -3.88),(55.76, -4.03),(55.96, -3.27))]\n",
    "loc.rename(columns={0: 'location',1:'frequency'}, inplace=True)\n",
    "print(loc)\n",
    "loc.head()"
   ]
  },
  {
   "cell_type": "code",
   "execution_count": 25,
   "metadata": {},
   "outputs": [],
   "source": [
    "import folium"
   ]
  },
  {
   "cell_type": "code",
   "execution_count": 26,
   "metadata": {
    "scrolled": true
   },
   "outputs": [
    {
     "data": {
      "text/html": [
       "<div style=\"width:100%;\"><div style=\"position:relative;width:100%;height:0;padding-bottom:60%;\"><span style=\"color:#565656\">Make this Notebook Trusted to load map: File -> Trust Notebook</span><iframe src=\"about:blank\" style=\"position:absolute;width:100%;height:100%;left:0;top:0;border:none !important;\" data-html=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 onload=\"this.contentDocument.open();this.contentDocument.write(atob(this.getAttribute('data-html')));this.contentDocument.close();\" allowfullscreen webkitallowfullscreen mozallowfullscreen></iframe></div></div>"
      ],
      "text/plain": [
       "<folium.folium.Map at 0x121d697f0>"
      ]
     },
     "execution_count": 26,
     "metadata": {},
     "output_type": "execute_result"
    }
   ],
   "source": [
    "# define the world map\n",
    "world_map = folium.Map()\n",
    "\n",
    "# display world map\n",
    "world_map"
   ]
  },
  {
   "cell_type": "markdown",
   "metadata": {},
   "source": [
    "Because Glasgow is the most common city in the title, so I set the center of the map at Glasgow"
   ]
  },
  {
   "cell_type": "code",
   "execution_count": 27,
   "metadata": {},
   "outputs": [
    {
     "data": {
      "text/html": [
       "<div style=\"width:100%;\"><div style=\"position:relative;width:100%;height:0;padding-bottom:60%;\"><span style=\"color:#565656\">Make this Notebook Trusted to load map: File -> Trust Notebook</span><iframe src=\"about:blank\" style=\"position:absolute;width:100%;height:100%;left:0;top:0;border:none !important;\" data-html=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 onload=\"this.contentDocument.open();this.contentDocument.write(atob(this.getAttribute('data-html')));this.contentDocument.close();\" allowfullscreen webkitallowfullscreen mozallowfullscreen></iframe></div></div>"
      ],
      "text/plain": [
       "<folium.folium.Map at 0x121d553d0>"
      ]
     },
     "execution_count": 27,
     "metadata": {},
     "output_type": "execute_result"
    }
   ],
   "source": [
    "#  Glasgow latitude and longitude values\n",
    "latitude = 55.89\n",
    "longitude = -4.27\n",
    "\n",
    "# Create map and display it\n",
    "gla_map = folium.Map(location=[latitude, longitude], zoom_start=12)\n",
    "\n",
    "# Display the map of Glasgow\n",
    "gla_map"
   ]
  },
  {
   "cell_type": "code",
   "execution_count": 28,
   "metadata": {
    "scrolled": true
   },
   "outputs": [
    {
     "data": {
      "text/html": [
       "<div style=\"width:100%;\"><div style=\"position:relative;width:100%;height:0;padding-bottom:60%;\"><span style=\"color:#565656\">Make this Notebook Trusted to load map: File -> Trust Notebook</span><iframe src=\"about:blank\" style=\"position:absolute;width:100%;height:100%;left:0;top:0;border:none !important;\" data-html=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 onload=\"this.contentDocument.open();this.contentDocument.write(atob(this.getAttribute('data-html')));this.contentDocument.close();\" allowfullscreen webkitallowfullscreen mozallowfullscreen></iframe></div></div>"
      ],
      "text/plain": [
       "<folium.folium.Map at 0x121ce31c0>"
      ]
     },
     "execution_count": 28,
     "metadata": {},
     "output_type": "execute_result"
    }
   ],
   "source": [
    "incidents = folium.map.FeatureGroup()\n",
    "\n",
    "for lat, lng, in zip(loc.X, loc.Y):\n",
    "    incidents.add_child(\n",
    "        folium.CircleMarker(\n",
    "            [lat, lng],\n",
    "            radius=7, \n",
    "            color='yellow',\n",
    "            fill=True,\n",
    "            fill_color='red',\n",
    "            fill_opacity=0.4\n",
    "        )\n",
    "    )\n",
    "\n",
    "gla_map = folium.Map(location=[latitude, longitude], zoom_start=12)\n",
    "gla_map.add_child(incidents)"
   ]
  },
  {
   "cell_type": "markdown",
   "metadata": {},
   "source": [
    "It can be seen from the markers on the map that most of the locations are centered on Glasgow, scattered in the east-west direction, and most of them are relatively close to Glasgow."
   ]
  },
  {
   "cell_type": "code",
   "execution_count": 29,
   "metadata": {
    "scrolled": true
   },
   "outputs": [
    {
     "data": {
      "text/html": [
       "<div style=\"width:100%;\"><div style=\"position:relative;width:100%;height:0;padding-bottom:60%;\"><span style=\"color:#565656\">Make this Notebook Trusted to load map: File -> Trust Notebook</span><iframe src=\"about:blank\" style=\"position:absolute;width:100%;height:100%;left:0;top:0;border:none !important;\" data-html=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 onload=\"this.contentDocument.open();this.contentDocument.write(atob(this.getAttribute('data-html')));this.contentDocument.close();\" allowfullscreen webkitallowfullscreen mozallowfullscreen></iframe></div></div>"
      ],
      "text/plain": [
       "<folium.folium.Map at 0x121d7e820>"
      ]
     },
     "execution_count": 29,
     "metadata": {},
     "output_type": "execute_result"
    }
   ],
   "source": [
    "from folium import plugins\n",
    "\n",
    "gla_map = folium.Map(location = [latitude, longitude], zoom_start = 12)\n",
    "\n",
    "# instantiate a mark cluster object for the incidents in the dataframe\n",
    "incidents = plugins.MarkerCluster().add_to(gla_map)\n",
    "\n",
    "# loop through the dataframe and add each data point to the mark cluster\n",
    "for lat, lng, label, in zip(loc.X, loc.Y, loc.location):\n",
    "    folium.Marker(\n",
    "        location=[lat, lng],\n",
    "        icon=None,\n",
    "        popup=label,\n",
    "    ).add_to(incidents)\n",
    "\n",
    "# add incidents to map\n",
    "gla_map.add_child(incidents)"
   ]
  },
  {
   "cell_type": "markdown",
   "metadata": {},
   "source": [
    "According to the zoom in and zoom out, you can see the clusters of locations. On a large scale, there are 14 in Glasgow, 3 in Edinburgh, and then there are two in the easternmost part of Scotland and only one in the north. After zooming in on the map, the cluster distribution will be more detailed. Click the coordinates to see the name of the location, which is very convenient. It also shows that most of the factories that know about Scottish bricks are concentrated near Glasgow."
   ]
  },
  {
   "cell_type": "code",
   "execution_count": 30,
   "metadata": {
    "scrolled": true
   },
   "outputs": [
    {
     "data": {
      "text/html": [
       "<div style=\"width:100%;\"><div style=\"position:relative;width:100%;height:0;padding-bottom:60%;\"><span style=\"color:#565656\">Make this Notebook Trusted to load map: File -> Trust Notebook</span><iframe src=\"about:blank\" style=\"position:absolute;width:100%;height:100%;left:0;top:0;border:none !important;\" data-html=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 onload=\"this.contentDocument.open();this.contentDocument.write(atob(this.getAttribute('data-html')));this.contentDocument.close();\" allowfullscreen webkitallowfullscreen mozallowfullscreen></iframe></div></div>"
      ],
      "text/plain": [
       "<folium.folium.Map at 0x121db5610>"
      ]
     },
     "execution_count": 30,
     "metadata": {},
     "output_type": "execute_result"
    }
   ],
   "source": [
    "from folium.plugins import HeatMap\n",
    "\n",
    "gla_map = folium.Map(location = [latitude, longitude], zoom_start = 12)\n",
    "\n",
    "# Convert data format\n",
    "heatdata = loc[['X','Y']].values.tolist()\n",
    "\n",
    "# add incidents to map\n",
    "HeatMap(heatdata).add_to(gla_map)\n",
    "\n",
    "gla_map"
   ]
  },
  {
   "cell_type": "markdown",
   "metadata": {},
   "source": [
    "With Heatmap, it can be seen more intuitively from the color that Scottish bricks are mostly produced in the east of Glasgow, near Edinburgh, and there are relatively more Scottish bricks produced in Edinburgh"
   ]
  },
  {
   "cell_type": "markdown",
   "metadata": {},
   "source": [
    "### 6. Grabbing a specific entry to find related dates\n",
    "\n",
    "It looks like each page contains paragraphs `<p>` which can be extracted. But there are also `<span>` items that contain dates and all of these have `style=\"color: #0000ff;\"` on them.\n"
   ]
  },
  {
   "cell_type": "markdown",
   "metadata": {},
   "source": [
    "I selected the one url of the top row from the data.describe table above, and then randomly selected a url containing word 'Glasgow'."
   ]
  },
  {
   "cell_type": "markdown",
   "metadata": {},
   "source": [
    "First is the top row's url"
   ]
  },
  {
   "cell_type": "code",
   "execution_count": 31,
   "metadata": {},
   "outputs": [],
   "source": [
    "url = \"https://www.scottishbrickhistory.co.uk/shotts-sand-lime-brickworks-shotts-north-lanarkshire/\"\n",
    "\n",
    "raw_page = requests.get(url)\n",
    "\n",
    "parsed_page = bs(raw_page.text, \"lxml\")\n",
    "\n",
    "dates = parsed_page.find_all('span', {\"style\":\"color: #0000ff;\"})"
   ]
  },
  {
   "cell_type": "code",
   "execution_count": 32,
   "metadata": {},
   "outputs": [
    {
     "data": {
      "text/plain": [
       "[<span style=\"color: #0000ff;\">Northfield Brickworks</span>,\n",
       " <span style=\"color: #0000ff;\">06/05/1924</span>,\n",
       " <span style=\"color: #0000ff;\">1930s</span>,\n",
       " <span style=\"color: #0000ff;\">09/09/1933</span>,\n",
       " <span style=\"color: #0000ff;\">1939</span>,\n",
       " <span style=\"color: #0000ff;\">1940</span>,\n",
       " <span style=\"color: #0000ff;\">20/12/1940</span>,\n",
       " <span style=\"color: #0000ff;\">2012</span>]"
      ]
     },
     "execution_count": 32,
     "metadata": {},
     "output_type": "execute_result"
    }
   ],
   "source": [
    "dates"
   ]
  },
  {
   "cell_type": "code",
   "execution_count": 33,
   "metadata": {},
   "outputs": [
    {
     "name": "stdout",
     "output_type": "stream",
     "text": [
      "Northfield Brickworks\n",
      "06/05/1924\n",
      "1930s\n",
      "09/09/1933\n",
      "1939\n",
      "1940\n",
      "20/12/1940\n",
      "2012\n"
     ]
    }
   ],
   "source": [
    "for d in dates:\n",
    "    print(d.text)"
   ]
  },
  {
   "cell_type": "markdown",
   "metadata": {},
   "source": [
    "little problem: I need to filter out any that do not start with a number."
   ]
  },
  {
   "cell_type": "code",
   "execution_count": 34,
   "metadata": {},
   "outputs": [],
   "source": [
    "good_dates1 = []\n",
    "\n",
    "for d in dates:\n",
    "    if d.text[0].isnumeric():\n",
    "        good_dates1.append(d.text)"
   ]
  },
  {
   "cell_type": "code",
   "execution_count": 35,
   "metadata": {},
   "outputs": [
    {
     "data": {
      "text/plain": [
       "['06/05/1924', '1930s', '09/09/1933', '1939', '1940', '20/12/1940', '2012']"
      ]
     },
     "execution_count": 35,
     "metadata": {},
     "output_type": "execute_result"
    }
   ],
   "source": [
    "good_dates1"
   ]
  },
  {
   "cell_type": "markdown",
   "metadata": {},
   "source": [
    "Next is a randomly selected url"
   ]
  },
  {
   "cell_type": "code",
   "execution_count": 36,
   "metadata": {},
   "outputs": [],
   "source": [
    "url = \"https://www.scottishbrickhistory.co.uk/petershill-brickworks-springburn-glasgow/\"\n",
    "\n",
    "raw_page = requests.get(url)\n",
    "\n",
    "parsed_page = bs(raw_page.text, \"lxml\")\n",
    "\n",
    "dates = parsed_page.find_all('span', {\"style\":\"color: #0000ff;\"})"
   ]
  },
  {
   "cell_type": "code",
   "execution_count": 37,
   "metadata": {},
   "outputs": [
    {
     "data": {
      "text/plain": [
       "[<span style=\"color: #0000ff;\">Source</span>,\n",
       " <span style=\"color: #0000ff;\">1874 – 75</span>,\n",
       " <span style=\"color: #0000ff;\">1875</span>,\n",
       " <span style=\"color: #0000ff;\">15/01/1875</span>,\n",
       " <span style=\"color: #0000ff;\">1878 – 79</span>,\n",
       " <span style=\"color: #0000ff;\">23/06/1879</span>,\n",
       " <span style=\"color: #0000ff;\">03/11/1879</span>,\n",
       " <span style=\"color: #0000ff;\">1883 -1884</span>,\n",
       " <span style=\"color: #0000ff;\">1886</span>,\n",
       " <span style=\"color: #0000ff;\">1886 -1889</span>,\n",
       " <span style=\"color: #0000ff;\">1893</span>,\n",
       " <span style=\"color: #0000ff;\">1895 – 96</span>,\n",
       " <span style=\"color: #0000ff;\">1896</span>,\n",
       " <span style=\"color: #0000ff;\">1896</span>,\n",
       " <span style=\"color: #0000ff;\">20/02/1902</span>]"
      ]
     },
     "execution_count": 37,
     "metadata": {},
     "output_type": "execute_result"
    }
   ],
   "source": [
    "dates"
   ]
  },
  {
   "cell_type": "code",
   "execution_count": 38,
   "metadata": {},
   "outputs": [
    {
     "name": "stdout",
     "output_type": "stream",
     "text": [
      "Source\n",
      "1874 – 75\n",
      "1875\n",
      "15/01/1875\n",
      "1878 – 79\n",
      "23/06/1879\n",
      "03/11/1879\n",
      "1883 -1884\n",
      "1886\n",
      "1886 -1889\n",
      "1893\n",
      "1895 – 96\n",
      "1896\n",
      "1896\n",
      "20/02/1902\n"
     ]
    }
   ],
   "source": [
    "for d in dates:\n",
    "    print(d.text)"
   ]
  },
  {
   "cell_type": "code",
   "execution_count": 39,
   "metadata": {},
   "outputs": [],
   "source": [
    "good_dates2 = []\n",
    "\n",
    "for d in dates:\n",
    "    if d.text[0].isnumeric():\n",
    "        good_dates2.append(d.text)"
   ]
  },
  {
   "cell_type": "code",
   "execution_count": 40,
   "metadata": {},
   "outputs": [
    {
     "data": {
      "text/plain": [
       "['1874 – 75',\n",
       " '1875',\n",
       " '15/01/1875',\n",
       " '1878 – 79',\n",
       " '23/06/1879',\n",
       " '03/11/1879',\n",
       " '1883 -1884',\n",
       " '1886',\n",
       " '1886 -1889',\n",
       " '1893',\n",
       " '1895 – 96',\n",
       " '1896',\n",
       " '1896',\n",
       " '20/02/1902']"
      ]
     },
     "execution_count": 40,
     "metadata": {},
     "output_type": "execute_result"
    }
   ],
   "source": [
    "good_dates2"
   ]
  },
  {
   "cell_type": "code",
   "execution_count": 41,
   "metadata": {},
   "outputs": [
    {
     "data": {
      "text/html": [
       "<div>\n",
       "<style scoped>\n",
       "    .dataframe tbody tr th:only-of-type {\n",
       "        vertical-align: middle;\n",
       "    }\n",
       "\n",
       "    .dataframe tbody tr th {\n",
       "        vertical-align: top;\n",
       "    }\n",
       "\n",
       "    .dataframe thead th {\n",
       "        text-align: right;\n",
       "    }\n",
       "</style>\n",
       "<table border=\"1\" class=\"dataframe\">\n",
       "  <thead>\n",
       "    <tr style=\"text-align: right;\">\n",
       "      <th></th>\n",
       "      <th>0</th>\n",
       "      <th>1</th>\n",
       "      <th>2</th>\n",
       "      <th>3</th>\n",
       "      <th>4</th>\n",
       "      <th>5</th>\n",
       "      <th>6</th>\n",
       "      <th>7</th>\n",
       "      <th>8</th>\n",
       "      <th>9</th>\n",
       "      <th>10</th>\n",
       "      <th>11</th>\n",
       "      <th>12</th>\n",
       "      <th>13</th>\n",
       "    </tr>\n",
       "  </thead>\n",
       "  <tbody>\n",
       "    <tr>\n",
       "      <th>0</th>\n",
       "      <td>06/05/1924</td>\n",
       "      <td>1930s</td>\n",
       "      <td>09/09/1933</td>\n",
       "      <td>1939</td>\n",
       "      <td>1940</td>\n",
       "      <td>20/12/1940</td>\n",
       "      <td>2012</td>\n",
       "      <td>None</td>\n",
       "      <td>None</td>\n",
       "      <td>None</td>\n",
       "      <td>None</td>\n",
       "      <td>None</td>\n",
       "      <td>None</td>\n",
       "      <td>None</td>\n",
       "    </tr>\n",
       "    <tr>\n",
       "      <th>1</th>\n",
       "      <td>1874 – 75</td>\n",
       "      <td>1875</td>\n",
       "      <td>15/01/1875</td>\n",
       "      <td>1878 – 79</td>\n",
       "      <td>23/06/1879</td>\n",
       "      <td>03/11/1879</td>\n",
       "      <td>1883 -1884</td>\n",
       "      <td>1886</td>\n",
       "      <td>1886 -1889</td>\n",
       "      <td>1893</td>\n",
       "      <td>1895 – 96</td>\n",
       "      <td>1896</td>\n",
       "      <td>1896</td>\n",
       "      <td>20/02/1902</td>\n",
       "    </tr>\n",
       "  </tbody>\n",
       "</table>\n",
       "</div>"
      ],
      "text/plain": [
       "            0      1           2          3           4           5  \\\n",
       "0  06/05/1924  1930s  09/09/1933       1939        1940  20/12/1940   \n",
       "1   1874 – 75   1875  15/01/1875  1878 – 79  23/06/1879  03/11/1879   \n",
       "\n",
       "            6     7           8     9         10    11    12          13  \n",
       "0        2012  None        None  None       None  None  None        None  \n",
       "1  1883 -1884  1886  1886 -1889  1893  1895 – 96  1896  1896  20/02/1902  "
      ]
     },
     "execution_count": 41,
     "metadata": {},
     "output_type": "execute_result"
    }
   ],
   "source": [
    "df_dates = pd.DataFrame([good_dates1, good_dates2])\n",
    "df_dates"
   ]
  },
  {
   "cell_type": "markdown",
   "metadata": {},
   "source": [
    "So, in these two URLs, the time is generally concentrated between 1870-1940, so I guess that most of Scotland's Brick and related factories may be produced in 1800-2000."
   ]
  },
  {
   "cell_type": "markdown",
   "metadata": {},
   "source": [
    "## Thinking: try to use Spacy to get the theme of the article"
   ]
  },
  {
   "cell_type": "markdown",
   "metadata": {},
   "source": [
    "Thanks to our tutor Alexander for introducing Spacy to us, so that we have a new idea for data analysis"
   ]
  },
  {
   "cell_type": "code",
   "execution_count": 42,
   "metadata": {},
   "outputs": [],
   "source": [
    "import spacy\n",
    "model = spacy.load(\"en_core_web_sm\")"
   ]
  },
  {
   "cell_type": "markdown",
   "metadata": {},
   "source": [
    "### I load the text from 'Baird, Thomson and Co, Bath Street, Glasgow'.It's also an article about Glasgow."
   ]
  },
  {
   "cell_type": "code",
   "execution_count": 43,
   "metadata": {},
   "outputs": [],
   "source": [
    "text = '(Note – SBH – I am not convinced this company manufactured fire clay goods in Scotland but I have created this page meantime while I try to clarify).1885 – 1886 – Baird, Thomson and Co, ventilating, heating, sanitary and consulting engineers, ventilator and sanitary appliance manufacturers, agents for the most improved appliances, sole makers of the celebrated grahtryx and other smoke test machines for drains, soil pipes &c, fumigating, disinfecting, destroying or unearthing vermin &c. Offices and showrooms 24 Bath Street, Glasgow and in Edinburgh and London.1890 – 1891 – Baird, Thomson & Co, fireclay manufacturers, 20, 22, 24 and 26 Bath Street, Glasgow.1893 – 1894 – Baird, Thompson & Co., brickmakers, 24 Bath St, Glasgow.1895 – 1896 – Baird, Thomson & Co. 20, 22, 24, and 26 Bath st. and in London.'"
   ]
  },
  {
   "cell_type": "code",
   "execution_count": 44,
   "metadata": {},
   "outputs": [
    {
     "name": "stdout",
     "output_type": "stream",
     "text": [
      "<class 'spacy.tokens.doc.Doc'>\n",
      "(Note – SBH – I am not convinced this company manufactured fire clay goods in Scotland but I have created this page meantime while I try to clarify).1885 – 1886 – Baird, Thomson and Co, ventilating, heating, sanitary and consulting engineers, ventilator and sanitary appliance manufacturers, agents for the most improved appliances, sole makers of the celebrated grahtryx and other smoke test machines for drains, soil pipes &c, fumigating, disinfecting, destroying or unearthing vermin &c. Offices and showrooms 24 Bath Street, Glasgow and in Edinburgh and London.1890 – 1891 – Baird, Thomson & Co, fireclay manufacturers, 20, 22, 24 and 26 Bath Street, Glasgow.1893 – 1894 – Baird, Thompson & Co., brickmakers, 24 Bath St, Glasgow.1895 – 1896 – Baird, Thomson & Co. 20, 22, 24, and 26 Bath st. and in London.\n"
     ]
    }
   ],
   "source": [
    "document = model(text)\n",
    "\n",
    "print(type(document))\n",
    "\n",
    "print(document)"
   ]
  },
  {
   "cell_type": "markdown",
   "metadata": {},
   "source": [
    "### Store each sentence as a span."
   ]
  },
  {
   "cell_type": "code",
   "execution_count": 45,
   "metadata": {},
   "outputs": [
    {
     "name": "stdout",
     "output_type": "stream",
     "text": [
      "Sentence 1:\n",
      " \t (Note – SBH – I am not convinced this company manufactured fire clay goods in Scotland\n",
      "Sentence 2:\n",
      " \t but I have created this page meantime while I try to clarify).1885 –\n",
      "Sentence 3:\n",
      " \t 1886 – Baird, Thomson and Co,\n",
      "Sentence 4:\n",
      " \t ventilating, heating, sanitary and consulting engineers, ventilator and sanitary appliance manufacturers, agents for the most improved appliances, sole makers of the celebrated grahtryx and other smoke test machines for drains, soil pipes &c, fumigating, disinfecting, destroying or unearthing vermin &c. Offices and showrooms 24\n",
      "Sentence 5:\n",
      " \t Bath Street, Glasgow and in Edinburgh and London.1890 – 1891 – Baird, Thomson & Co, fireclay manufacturers, 20, 22, 24 and 26 Bath Street, Glasgow.1893 – 1894 – Baird, Thompson & Co., brickmakers, 24 Bath St, Glasgow.1895 – 1896 – Baird, Thomson & Co. 20, 22, 24, and 26\n",
      "Sentence 6:\n",
      " \t Bath st.\n",
      "Sentence 7:\n",
      " \t and in London.\n",
      "<class 'spacy.tokens.span.Span'>\n"
     ]
    }
   ],
   "source": [
    "for i, sentence in enumerate(document.sents, start=1):\n",
    "    print(f\"Sentence {i}:\\n \\t {sentence}\")\n",
    "    \n",
    "print(type(sentence))"
   ]
  },
  {
   "cell_type": "markdown",
   "metadata": {},
   "source": [
    "### Here I only iterate through a single sentence, to simplely check whether Spacy is helpful to our work."
   ]
  },
  {
   "cell_type": "code",
   "execution_count": 46,
   "metadata": {},
   "outputs": [
    {
     "name": "stdout",
     "output_type": "stream",
     "text": [
      "Actual text: (\n",
      "\tPunctuation?\t True\n",
      "\tStopword?\t False\n",
      "\tPart-of-speech?\t PUNCT\n",
      "Actual text: Note\n",
      "\tPunctuation?\t False\n",
      "\tStopword?\t False\n",
      "\tPart-of-speech?\t NOUN\n",
      "Actual text: –\n",
      "\tPunctuation?\t True\n",
      "\tStopword?\t False\n",
      "\tPart-of-speech?\t PUNCT\n",
      "Actual text: SBH\n",
      "\tPunctuation?\t False\n",
      "\tStopword?\t False\n",
      "\tPart-of-speech?\t PROPN\n",
      "Actual text: –\n",
      "\tPunctuation?\t True\n",
      "\tStopword?\t False\n",
      "\tPart-of-speech?\t PUNCT\n",
      "Actual text: I\n",
      "\tPunctuation?\t False\n",
      "\tStopword?\t True\n",
      "\tPart-of-speech?\t PRON\n",
      "Actual text: am\n",
      "\tPunctuation?\t False\n",
      "\tStopword?\t True\n",
      "\tPart-of-speech?\t AUX\n",
      "Actual text: not\n",
      "\tPunctuation?\t False\n",
      "\tStopword?\t True\n",
      "\tPart-of-speech?\t PART\n",
      "Actual text: convinced\n",
      "\tPunctuation?\t False\n",
      "\tStopword?\t False\n",
      "\tPart-of-speech?\t VERB\n",
      "Actual text: this\n",
      "\tPunctuation?\t False\n",
      "\tStopword?\t True\n",
      "\tPart-of-speech?\t DET\n",
      "Actual text: company\n",
      "\tPunctuation?\t False\n",
      "\tStopword?\t False\n",
      "\tPart-of-speech?\t NOUN\n",
      "Actual text: manufactured\n",
      "\tPunctuation?\t False\n",
      "\tStopword?\t False\n",
      "\tPart-of-speech?\t VERB\n",
      "Actual text: fire\n",
      "\tPunctuation?\t False\n",
      "\tStopword?\t False\n",
      "\tPart-of-speech?\t NOUN\n",
      "Actual text: clay\n",
      "\tPunctuation?\t False\n",
      "\tStopword?\t False\n",
      "\tPart-of-speech?\t NOUN\n",
      "Actual text: goods\n",
      "\tPunctuation?\t False\n",
      "\tStopword?\t False\n",
      "\tPart-of-speech?\t NOUN\n",
      "Actual text: in\n",
      "\tPunctuation?\t False\n",
      "\tStopword?\t True\n",
      "\tPart-of-speech?\t ADP\n",
      "Actual text: Scotland\n",
      "\tPunctuation?\t False\n",
      "\tStopword?\t False\n",
      "\tPart-of-speech?\t PROPN\n"
     ]
    }
   ],
   "source": [
    "first_sentence = list(document.sents)[0]\n",
    "\n",
    "for token in first_sentence:\n",
    "    print(f\"Actual text: {token.text}\")\n",
    "    print(f\"\\tPunctuation?\\t {token.is_punct}\")\n",
    "    print(f\"\\tStopword?\\t {token.is_stop}\")\n",
    "    print(f\"\\tPart-of-speech?\\t {token.pos_}\")"
   ]
  },
  {
   "cell_type": "markdown",
   "metadata": {},
   "source": [
    "### Named Entity Recognition"
   ]
  },
  {
   "cell_type": "code",
   "execution_count": 47,
   "metadata": {},
   "outputs": [
    {
     "name": "stdout",
     "output_type": "stream",
     "text": [
      "Actual text of entity: Scotland\n",
      "Type of entity: GPE\n"
     ]
    }
   ],
   "source": [
    "for entity in first_sentence.ents:\n",
    "    print(f\"Actual text of entity: {entity.text}\")\n",
    "    print(f\"Type of entity: {entity.label_}\")"
   ]
  },
  {
   "cell_type": "code",
   "execution_count": 48,
   "metadata": {},
   "outputs": [
    {
     "data": {
      "text/html": [
       "<span class=\"tex2jax_ignore\"><div class=\"entities\" style=\"line-height: 2.5; direction: ltr\">(Note – SBH – I am not convinced this company manufactured fire clay goods in \n",
       "<mark class=\"entity\" style=\"background: #feca74; padding: 0.45em 0.6em; margin: 0 0.25em; line-height: 1; border-radius: 0.35em;\">\n",
       "    Scotland\n",
       "    <span style=\"font-size: 0.8em; font-weight: bold; line-height: 1; border-radius: 0.35em; text-transform: uppercase; vertical-align: middle; margin-left: 0.5rem\">GPE</span>\n",
       "</mark>\n",
       " </div></span>"
      ],
      "text/plain": [
       "<IPython.core.display.HTML object>"
      ]
     },
     "metadata": {},
     "output_type": "display_data"
    }
   ],
   "source": [
    "from spacy import displacy #Visualise the entities \n",
    "\n",
    "displacy.render(first_sentence, style='ent')"
   ]
  },
  {
   "cell_type": "markdown",
   "metadata": {},
   "source": [
    "### Then try to identify phrases (or \"noun chunks\") in a Document or Span"
   ]
  },
  {
   "cell_type": "code",
   "execution_count": 49,
   "metadata": {},
   "outputs": [
    {
     "name": "stdout",
     "output_type": "stream",
     "text": [
      "Phrase: – SBH\n",
      "Phrase: I\n",
      "Phrase: this company\n",
      "Phrase: fire clay goods\n",
      "Phrase: Scotland\n"
     ]
    }
   ],
   "source": [
    "for chunk in first_sentence.noun_chunks:\n",
    "    print(f\"Phrase: {chunk.text}\")"
   ]
  },
  {
   "cell_type": "markdown",
   "metadata": {},
   "source": [
    "### Dependency Parsing"
   ]
  },
  {
   "cell_type": "code",
   "execution_count": 50,
   "metadata": {
    "scrolled": true
   },
   "outputs": [
    {
     "name": "stdout",
     "output_type": "stream",
     "text": [
      "Token: Note\n",
      "\tDep type ccomp\n",
      "\tHead = convinced\n",
      "Token: SBH\n",
      "\tDep type appos\n",
      "\tHead = Note\n",
      "Token: I\n",
      "\tDep type nsubjpass\n",
      "\tHead = convinced\n",
      "Token: am\n",
      "\tDep type auxpass\n",
      "\tHead = convinced\n",
      "Token: not\n",
      "\tDep type neg\n",
      "\tHead = convinced\n",
      "Token: convinced\n",
      "\tDep type ROOT\n",
      "\tHead = convinced\n",
      "Token: this\n",
      "\tDep type det\n",
      "\tHead = company\n",
      "Token: company\n",
      "\tDep type nsubj\n",
      "\tHead = manufactured\n",
      "Token: manufactured\n",
      "\tDep type ccomp\n",
      "\tHead = convinced\n",
      "Token: fire\n",
      "\tDep type compound\n",
      "\tHead = goods\n",
      "Token: clay\n",
      "\tDep type compound\n",
      "\tHead = goods\n",
      "Token: goods\n",
      "\tDep type dobj\n",
      "\tHead = manufactured\n",
      "Token: in\n",
      "\tDep type prep\n",
      "\tHead = manufactured\n",
      "Token: Scotland\n",
      "\tDep type pobj\n",
      "\tHead = in\n"
     ]
    }
   ],
   "source": [
    "for token in first_sentence:\n",
    "    if not token.is_punct:\n",
    "        print(f\"Token: {token.text}\")\n",
    "        print(f\"\\tDep type {token.dep_}\")\n",
    "        print(f\"\\tHead = {token.head}\")"
   ]
  },
  {
   "cell_type": "code",
   "execution_count": 51,
   "metadata": {},
   "outputs": [
    {
     "data": {
      "text/html": [
       "<span class=\"tex2jax_ignore\"><svg xmlns=\"http://www.w3.org/2000/svg\" xmlns:xlink=\"http://www.w3.org/1999/xlink\" xml:lang=\"en\" id=\"02ad6aa9136b46fb876a13045786e5c1-0\" class=\"displacy\" width=\"2300\" height=\"587.0\" direction=\"ltr\" style=\"max-width: none; height: 587.0px; color: #000000; background: #ffffff; font-family: Arial; direction: ltr\">\n",
       "<text class=\"displacy-token\" fill=\"currentColor\" text-anchor=\"middle\" y=\"497.0\">\n",
       "    <tspan class=\"displacy-word\" fill=\"currentColor\" x=\"50\">(</tspan>\n",
       "    <tspan class=\"displacy-tag\" dy=\"2em\" fill=\"currentColor\" x=\"50\">PUNCT</tspan>\n",
       "</text>\n",
       "\n",
       "<text class=\"displacy-token\" fill=\"currentColor\" text-anchor=\"middle\" y=\"497.0\">\n",
       "    <tspan class=\"displacy-word\" fill=\"currentColor\" x=\"200\">Note –</tspan>\n",
       "    <tspan class=\"displacy-tag\" dy=\"2em\" fill=\"currentColor\" x=\"200\">NOUN</tspan>\n",
       "</text>\n",
       "\n",
       "<text class=\"displacy-token\" fill=\"currentColor\" text-anchor=\"middle\" y=\"497.0\">\n",
       "    <tspan class=\"displacy-word\" fill=\"currentColor\" x=\"350\">SBH –</tspan>\n",
       "    <tspan class=\"displacy-tag\" dy=\"2em\" fill=\"currentColor\" x=\"350\">PROPN</tspan>\n",
       "</text>\n",
       "\n",
       "<text class=\"displacy-token\" fill=\"currentColor\" text-anchor=\"middle\" y=\"497.0\">\n",
       "    <tspan class=\"displacy-word\" fill=\"currentColor\" x=\"500\">I</tspan>\n",
       "    <tspan class=\"displacy-tag\" dy=\"2em\" fill=\"currentColor\" x=\"500\">PRON</tspan>\n",
       "</text>\n",
       "\n",
       "<text class=\"displacy-token\" fill=\"currentColor\" text-anchor=\"middle\" y=\"497.0\">\n",
       "    <tspan class=\"displacy-word\" fill=\"currentColor\" x=\"650\">am</tspan>\n",
       "    <tspan class=\"displacy-tag\" dy=\"2em\" fill=\"currentColor\" x=\"650\">AUX</tspan>\n",
       "</text>\n",
       "\n",
       "<text class=\"displacy-token\" fill=\"currentColor\" text-anchor=\"middle\" y=\"497.0\">\n",
       "    <tspan class=\"displacy-word\" fill=\"currentColor\" x=\"800\">not</tspan>\n",
       "    <tspan class=\"displacy-tag\" dy=\"2em\" fill=\"currentColor\" x=\"800\">PART</tspan>\n",
       "</text>\n",
       "\n",
       "<text class=\"displacy-token\" fill=\"currentColor\" text-anchor=\"middle\" y=\"497.0\">\n",
       "    <tspan class=\"displacy-word\" fill=\"currentColor\" x=\"950\">convinced</tspan>\n",
       "    <tspan class=\"displacy-tag\" dy=\"2em\" fill=\"currentColor\" x=\"950\">VERB</tspan>\n",
       "</text>\n",
       "\n",
       "<text class=\"displacy-token\" fill=\"currentColor\" text-anchor=\"middle\" y=\"497.0\">\n",
       "    <tspan class=\"displacy-word\" fill=\"currentColor\" x=\"1100\">this</tspan>\n",
       "    <tspan class=\"displacy-tag\" dy=\"2em\" fill=\"currentColor\" x=\"1100\">DET</tspan>\n",
       "</text>\n",
       "\n",
       "<text class=\"displacy-token\" fill=\"currentColor\" text-anchor=\"middle\" y=\"497.0\">\n",
       "    <tspan class=\"displacy-word\" fill=\"currentColor\" x=\"1250\">company</tspan>\n",
       "    <tspan class=\"displacy-tag\" dy=\"2em\" fill=\"currentColor\" x=\"1250\">NOUN</tspan>\n",
       "</text>\n",
       "\n",
       "<text class=\"displacy-token\" fill=\"currentColor\" text-anchor=\"middle\" y=\"497.0\">\n",
       "    <tspan class=\"displacy-word\" fill=\"currentColor\" x=\"1400\">manufactured</tspan>\n",
       "    <tspan class=\"displacy-tag\" dy=\"2em\" fill=\"currentColor\" x=\"1400\">VERB</tspan>\n",
       "</text>\n",
       "\n",
       "<text class=\"displacy-token\" fill=\"currentColor\" text-anchor=\"middle\" y=\"497.0\">\n",
       "    <tspan class=\"displacy-word\" fill=\"currentColor\" x=\"1550\">fire</tspan>\n",
       "    <tspan class=\"displacy-tag\" dy=\"2em\" fill=\"currentColor\" x=\"1550\">NOUN</tspan>\n",
       "</text>\n",
       "\n",
       "<text class=\"displacy-token\" fill=\"currentColor\" text-anchor=\"middle\" y=\"497.0\">\n",
       "    <tspan class=\"displacy-word\" fill=\"currentColor\" x=\"1700\">clay</tspan>\n",
       "    <tspan class=\"displacy-tag\" dy=\"2em\" fill=\"currentColor\" x=\"1700\">NOUN</tspan>\n",
       "</text>\n",
       "\n",
       "<text class=\"displacy-token\" fill=\"currentColor\" text-anchor=\"middle\" y=\"497.0\">\n",
       "    <tspan class=\"displacy-word\" fill=\"currentColor\" x=\"1850\">goods</tspan>\n",
       "    <tspan class=\"displacy-tag\" dy=\"2em\" fill=\"currentColor\" x=\"1850\">NOUN</tspan>\n",
       "</text>\n",
       "\n",
       "<text class=\"displacy-token\" fill=\"currentColor\" text-anchor=\"middle\" y=\"497.0\">\n",
       "    <tspan class=\"displacy-word\" fill=\"currentColor\" x=\"2000\">in</tspan>\n",
       "    <tspan class=\"displacy-tag\" dy=\"2em\" fill=\"currentColor\" x=\"2000\">ADP</tspan>\n",
       "</text>\n",
       "\n",
       "<text class=\"displacy-token\" fill=\"currentColor\" text-anchor=\"middle\" y=\"497.0\">\n",
       "    <tspan class=\"displacy-word\" fill=\"currentColor\" x=\"2150\">Scotland</tspan>\n",
       "    <tspan class=\"displacy-tag\" dy=\"2em\" fill=\"currentColor\" x=\"2150\">PROPN</tspan>\n",
       "</text>\n",
       "\n",
       "<g class=\"displacy-arrow\">\n",
       "    <path class=\"displacy-arc\" id=\"arrow-02ad6aa9136b46fb876a13045786e5c1-0-0\" stroke-width=\"2px\" d=\"M70,452.0 C70,2.0 950.0,2.0 950.0,452.0\" fill=\"none\" stroke=\"currentColor\"/>\n",
       "    <text dy=\"1.25em\" style=\"font-size: 0.8em; letter-spacing: 1px\">\n",
       "        <textPath xlink:href=\"#arrow-02ad6aa9136b46fb876a13045786e5c1-0-0\" class=\"displacy-label\" startOffset=\"50%\" side=\"left\" fill=\"currentColor\" text-anchor=\"middle\">punct</textPath>\n",
       "    </text>\n",
       "    <path class=\"displacy-arrowhead\" d=\"M70,454.0 L62,442.0 78,442.0\" fill=\"currentColor\"/>\n",
       "</g>\n",
       "\n",
       "<g class=\"displacy-arrow\">\n",
       "    <path class=\"displacy-arc\" id=\"arrow-02ad6aa9136b46fb876a13045786e5c1-0-1\" stroke-width=\"2px\" d=\"M220,452.0 C220,77.0 945.0,77.0 945.0,452.0\" fill=\"none\" stroke=\"currentColor\"/>\n",
       "    <text dy=\"1.25em\" style=\"font-size: 0.8em; letter-spacing: 1px\">\n",
       "        <textPath xlink:href=\"#arrow-02ad6aa9136b46fb876a13045786e5c1-0-1\" class=\"displacy-label\" startOffset=\"50%\" side=\"left\" fill=\"currentColor\" text-anchor=\"middle\">ccomp</textPath>\n",
       "    </text>\n",
       "    <path class=\"displacy-arrowhead\" d=\"M220,454.0 L212,442.0 228,442.0\" fill=\"currentColor\"/>\n",
       "</g>\n",
       "\n",
       "<g class=\"displacy-arrow\">\n",
       "    <path class=\"displacy-arc\" id=\"arrow-02ad6aa9136b46fb876a13045786e5c1-0-2\" stroke-width=\"2px\" d=\"M220,452.0 C220,377.0 325.0,377.0 325.0,452.0\" fill=\"none\" stroke=\"currentColor\"/>\n",
       "    <text dy=\"1.25em\" style=\"font-size: 0.8em; letter-spacing: 1px\">\n",
       "        <textPath xlink:href=\"#arrow-02ad6aa9136b46fb876a13045786e5c1-0-2\" class=\"displacy-label\" startOffset=\"50%\" side=\"left\" fill=\"currentColor\" text-anchor=\"middle\">appos</textPath>\n",
       "    </text>\n",
       "    <path class=\"displacy-arrowhead\" d=\"M325.0,454.0 L333.0,442.0 317.0,442.0\" fill=\"currentColor\"/>\n",
       "</g>\n",
       "\n",
       "<g class=\"displacy-arrow\">\n",
       "    <path class=\"displacy-arc\" id=\"arrow-02ad6aa9136b46fb876a13045786e5c1-0-3\" stroke-width=\"2px\" d=\"M520,452.0 C520,227.0 935.0,227.0 935.0,452.0\" fill=\"none\" stroke=\"currentColor\"/>\n",
       "    <text dy=\"1.25em\" style=\"font-size: 0.8em; letter-spacing: 1px\">\n",
       "        <textPath xlink:href=\"#arrow-02ad6aa9136b46fb876a13045786e5c1-0-3\" class=\"displacy-label\" startOffset=\"50%\" side=\"left\" fill=\"currentColor\" text-anchor=\"middle\">nsubjpass</textPath>\n",
       "    </text>\n",
       "    <path class=\"displacy-arrowhead\" d=\"M520,454.0 L512,442.0 528,442.0\" fill=\"currentColor\"/>\n",
       "</g>\n",
       "\n",
       "<g class=\"displacy-arrow\">\n",
       "    <path class=\"displacy-arc\" id=\"arrow-02ad6aa9136b46fb876a13045786e5c1-0-4\" stroke-width=\"2px\" d=\"M670,452.0 C670,302.0 930.0,302.0 930.0,452.0\" fill=\"none\" stroke=\"currentColor\"/>\n",
       "    <text dy=\"1.25em\" style=\"font-size: 0.8em; letter-spacing: 1px\">\n",
       "        <textPath xlink:href=\"#arrow-02ad6aa9136b46fb876a13045786e5c1-0-4\" class=\"displacy-label\" startOffset=\"50%\" side=\"left\" fill=\"currentColor\" text-anchor=\"middle\">auxpass</textPath>\n",
       "    </text>\n",
       "    <path class=\"displacy-arrowhead\" d=\"M670,454.0 L662,442.0 678,442.0\" fill=\"currentColor\"/>\n",
       "</g>\n",
       "\n",
       "<g class=\"displacy-arrow\">\n",
       "    <path class=\"displacy-arc\" id=\"arrow-02ad6aa9136b46fb876a13045786e5c1-0-5\" stroke-width=\"2px\" d=\"M820,452.0 C820,377.0 925.0,377.0 925.0,452.0\" fill=\"none\" stroke=\"currentColor\"/>\n",
       "    <text dy=\"1.25em\" style=\"font-size: 0.8em; letter-spacing: 1px\">\n",
       "        <textPath xlink:href=\"#arrow-02ad6aa9136b46fb876a13045786e5c1-0-5\" class=\"displacy-label\" startOffset=\"50%\" side=\"left\" fill=\"currentColor\" text-anchor=\"middle\">neg</textPath>\n",
       "    </text>\n",
       "    <path class=\"displacy-arrowhead\" d=\"M820,454.0 L812,442.0 828,442.0\" fill=\"currentColor\"/>\n",
       "</g>\n",
       "\n",
       "<g class=\"displacy-arrow\">\n",
       "    <path class=\"displacy-arc\" id=\"arrow-02ad6aa9136b46fb876a13045786e5c1-0-6\" stroke-width=\"2px\" d=\"M1120,452.0 C1120,377.0 1225.0,377.0 1225.0,452.0\" fill=\"none\" stroke=\"currentColor\"/>\n",
       "    <text dy=\"1.25em\" style=\"font-size: 0.8em; letter-spacing: 1px\">\n",
       "        <textPath xlink:href=\"#arrow-02ad6aa9136b46fb876a13045786e5c1-0-6\" class=\"displacy-label\" startOffset=\"50%\" side=\"left\" fill=\"currentColor\" text-anchor=\"middle\">det</textPath>\n",
       "    </text>\n",
       "    <path class=\"displacy-arrowhead\" d=\"M1120,454.0 L1112,442.0 1128,442.0\" fill=\"currentColor\"/>\n",
       "</g>\n",
       "\n",
       "<g class=\"displacy-arrow\">\n",
       "    <path class=\"displacy-arc\" id=\"arrow-02ad6aa9136b46fb876a13045786e5c1-0-7\" stroke-width=\"2px\" d=\"M1270,452.0 C1270,377.0 1375.0,377.0 1375.0,452.0\" fill=\"none\" stroke=\"currentColor\"/>\n",
       "    <text dy=\"1.25em\" style=\"font-size: 0.8em; letter-spacing: 1px\">\n",
       "        <textPath xlink:href=\"#arrow-02ad6aa9136b46fb876a13045786e5c1-0-7\" class=\"displacy-label\" startOffset=\"50%\" side=\"left\" fill=\"currentColor\" text-anchor=\"middle\">nsubj</textPath>\n",
       "    </text>\n",
       "    <path class=\"displacy-arrowhead\" d=\"M1270,454.0 L1262,442.0 1278,442.0\" fill=\"currentColor\"/>\n",
       "</g>\n",
       "\n",
       "<g class=\"displacy-arrow\">\n",
       "    <path class=\"displacy-arc\" id=\"arrow-02ad6aa9136b46fb876a13045786e5c1-0-8\" stroke-width=\"2px\" d=\"M970,452.0 C970,227.0 1385.0,227.0 1385.0,452.0\" fill=\"none\" stroke=\"currentColor\"/>\n",
       "    <text dy=\"1.25em\" style=\"font-size: 0.8em; letter-spacing: 1px\">\n",
       "        <textPath xlink:href=\"#arrow-02ad6aa9136b46fb876a13045786e5c1-0-8\" class=\"displacy-label\" startOffset=\"50%\" side=\"left\" fill=\"currentColor\" text-anchor=\"middle\">ccomp</textPath>\n",
       "    </text>\n",
       "    <path class=\"displacy-arrowhead\" d=\"M1385.0,454.0 L1393.0,442.0 1377.0,442.0\" fill=\"currentColor\"/>\n",
       "</g>\n",
       "\n",
       "<g class=\"displacy-arrow\">\n",
       "    <path class=\"displacy-arc\" id=\"arrow-02ad6aa9136b46fb876a13045786e5c1-0-9\" stroke-width=\"2px\" d=\"M1570,452.0 C1570,302.0 1830.0,302.0 1830.0,452.0\" fill=\"none\" stroke=\"currentColor\"/>\n",
       "    <text dy=\"1.25em\" style=\"font-size: 0.8em; letter-spacing: 1px\">\n",
       "        <textPath xlink:href=\"#arrow-02ad6aa9136b46fb876a13045786e5c1-0-9\" class=\"displacy-label\" startOffset=\"50%\" side=\"left\" fill=\"currentColor\" text-anchor=\"middle\">compound</textPath>\n",
       "    </text>\n",
       "    <path class=\"displacy-arrowhead\" d=\"M1570,454.0 L1562,442.0 1578,442.0\" fill=\"currentColor\"/>\n",
       "</g>\n",
       "\n",
       "<g class=\"displacy-arrow\">\n",
       "    <path class=\"displacy-arc\" id=\"arrow-02ad6aa9136b46fb876a13045786e5c1-0-10\" stroke-width=\"2px\" d=\"M1720,452.0 C1720,377.0 1825.0,377.0 1825.0,452.0\" fill=\"none\" stroke=\"currentColor\"/>\n",
       "    <text dy=\"1.25em\" style=\"font-size: 0.8em; letter-spacing: 1px\">\n",
       "        <textPath xlink:href=\"#arrow-02ad6aa9136b46fb876a13045786e5c1-0-10\" class=\"displacy-label\" startOffset=\"50%\" side=\"left\" fill=\"currentColor\" text-anchor=\"middle\">compound</textPath>\n",
       "    </text>\n",
       "    <path class=\"displacy-arrowhead\" d=\"M1720,454.0 L1712,442.0 1728,442.0\" fill=\"currentColor\"/>\n",
       "</g>\n",
       "\n",
       "<g class=\"displacy-arrow\">\n",
       "    <path class=\"displacy-arc\" id=\"arrow-02ad6aa9136b46fb876a13045786e5c1-0-11\" stroke-width=\"2px\" d=\"M1420,452.0 C1420,227.0 1835.0,227.0 1835.0,452.0\" fill=\"none\" stroke=\"currentColor\"/>\n",
       "    <text dy=\"1.25em\" style=\"font-size: 0.8em; letter-spacing: 1px\">\n",
       "        <textPath xlink:href=\"#arrow-02ad6aa9136b46fb876a13045786e5c1-0-11\" class=\"displacy-label\" startOffset=\"50%\" side=\"left\" fill=\"currentColor\" text-anchor=\"middle\">dobj</textPath>\n",
       "    </text>\n",
       "    <path class=\"displacy-arrowhead\" d=\"M1835.0,454.0 L1843.0,442.0 1827.0,442.0\" fill=\"currentColor\"/>\n",
       "</g>\n",
       "\n",
       "<g class=\"displacy-arrow\">\n",
       "    <path class=\"displacy-arc\" id=\"arrow-02ad6aa9136b46fb876a13045786e5c1-0-12\" stroke-width=\"2px\" d=\"M1420,452.0 C1420,152.0 1990.0,152.0 1990.0,452.0\" fill=\"none\" stroke=\"currentColor\"/>\n",
       "    <text dy=\"1.25em\" style=\"font-size: 0.8em; letter-spacing: 1px\">\n",
       "        <textPath xlink:href=\"#arrow-02ad6aa9136b46fb876a13045786e5c1-0-12\" class=\"displacy-label\" startOffset=\"50%\" side=\"left\" fill=\"currentColor\" text-anchor=\"middle\">prep</textPath>\n",
       "    </text>\n",
       "    <path class=\"displacy-arrowhead\" d=\"M1990.0,454.0 L1998.0,442.0 1982.0,442.0\" fill=\"currentColor\"/>\n",
       "</g>\n",
       "\n",
       "<g class=\"displacy-arrow\">\n",
       "    <path class=\"displacy-arc\" id=\"arrow-02ad6aa9136b46fb876a13045786e5c1-0-13\" stroke-width=\"2px\" d=\"M2020,452.0 C2020,377.0 2125.0,377.0 2125.0,452.0\" fill=\"none\" stroke=\"currentColor\"/>\n",
       "    <text dy=\"1.25em\" style=\"font-size: 0.8em; letter-spacing: 1px\">\n",
       "        <textPath xlink:href=\"#arrow-02ad6aa9136b46fb876a13045786e5c1-0-13\" class=\"displacy-label\" startOffset=\"50%\" side=\"left\" fill=\"currentColor\" text-anchor=\"middle\">pobj</textPath>\n",
       "    </text>\n",
       "    <path class=\"displacy-arrowhead\" d=\"M2125.0,454.0 L2133.0,442.0 2117.0,442.0\" fill=\"currentColor\"/>\n",
       "</g>\n",
       "</svg></span>"
      ],
      "text/plain": [
       "<IPython.core.display.HTML object>"
      ]
     },
     "metadata": {},
     "output_type": "display_data"
    }
   ],
   "source": [
    "from spacy import displacy    #Visualising\n",
    "displacy.render(first_sentence, style='dep', jupyter=True,\\\n",
    "                options = {'distance': 150})"
   ]
  },
  {
   "cell_type": "markdown",
   "metadata": {},
   "source": [
    "### Counting how many nouns, adjectives and so on..."
   ]
  },
  {
   "cell_type": "code",
   "execution_count": 52,
   "metadata": {},
   "outputs": [],
   "source": [
    "from collections import Counter\n",
    "\n",
    "# All tokens\n",
    "token_counter = Counter([token.text for token in document])\n",
    "\n",
    "# All tokens except punctuation\n",
    "allwords_counter = Counter([token.text for token in document if token.is_punct == False])\n",
    "\n",
    "# All tokens except punctuation and stop-words\n",
    "nostopwordsorpunct_counter = Counter([token.text for token in document if token.is_stop == False and token.is_punct == False])\n",
    "\n",
    "# POS of all tokens\n",
    "pos_counter = Counter([token.pos_ for token in document])\n",
    "\n",
    "# Labels of all entities in document\n",
    "ner_counter = Counter([entity.label_ for entity in document.ents])"
   ]
  },
  {
   "cell_type": "code",
   "execution_count": 53,
   "metadata": {},
   "outputs": [
    {
     "data": {
      "text/plain": [
       "[(',', 26),\n",
       " ('–', 10),\n",
       " ('and', 10),\n",
       " ('&', 5),\n",
       " ('Baird', 4),\n",
       " ('24', 4),\n",
       " ('Bath', 4),\n",
       " ('I', 3),\n",
       " ('in', 3),\n",
       " ('Thomson', 3)]"
      ]
     },
     "execution_count": 53,
     "metadata": {},
     "output_type": "execute_result"
    }
   ],
   "source": [
    "token_counter.most_common(10)"
   ]
  },
  {
   "cell_type": "code",
   "execution_count": 54,
   "metadata": {},
   "outputs": [
    {
     "data": {
      "text/plain": [
       "[('and', 10),\n",
       " ('Baird', 4),\n",
       " ('24', 4),\n",
       " ('Bath', 4),\n",
       " ('I', 3),\n",
       " ('in', 3),\n",
       " ('Thomson', 3),\n",
       " ('this', 2),\n",
       " ('Co', 2),\n",
       " ('sanitary', 2)]"
      ]
     },
     "execution_count": 54,
     "metadata": {},
     "output_type": "execute_result"
    }
   ],
   "source": [
    "allwords_counter.most_common(10)"
   ]
  },
  {
   "cell_type": "code",
   "execution_count": 55,
   "metadata": {},
   "outputs": [
    {
     "data": {
      "text/plain": [
       "[('Baird', 4),\n",
       " ('24', 4),\n",
       " ('Bath', 4),\n",
       " ('Thomson', 3),\n",
       " ('Co', 2),\n",
       " ('sanitary', 2),\n",
       " ('manufacturers', 2),\n",
       " ('Street', 2),\n",
       " ('20', 2),\n",
       " ('22', 2)]"
      ]
     },
     "execution_count": 55,
     "metadata": {},
     "output_type": "execute_result"
    }
   ],
   "source": [
    "nostopwordsorpunct_counter.most_common(10)"
   ]
  },
  {
   "cell_type": "code",
   "execution_count": 56,
   "metadata": {},
   "outputs": [
    {
     "data": {
      "text/plain": [
       "[('PUNCT', 38),\n",
       " ('PROPN', 33),\n",
       " ('NOUN', 25),\n",
       " ('CCONJ', 17),\n",
       " ('NUM', 14),\n",
       " ('VERB', 12),\n",
       " ('ADP', 6),\n",
       " ('ADJ', 5),\n",
       " ('DET', 4),\n",
       " ('PRON', 3)]"
      ]
     },
     "execution_count": 56,
     "metadata": {},
     "output_type": "execute_result"
    }
   ],
   "source": [
    "pos_counter.most_common(10)"
   ]
  },
  {
   "cell_type": "code",
   "execution_count": 57,
   "metadata": {},
   "outputs": [
    {
     "data": {
      "text/plain": [
       "[('ORG', 11),\n",
       " ('DATE', 8),\n",
       " ('GPE', 5),\n",
       " ('CARDINAL', 4),\n",
       " ('PERSON', 2),\n",
       " ('FAC', 1)]"
      ]
     },
     "execution_count": 57,
     "metadata": {},
     "output_type": "execute_result"
    }
   ],
   "source": [
    "ner_counter.most_common(10)"
   ]
  },
  {
   "cell_type": "markdown",
   "metadata": {},
   "source": [
    "In addition to conjunctions and punctuation, the most common words are Baird, 24, bath. This may help me pay attention to these words in the article, but Baird and bath may be place names, people's names, store names, 24 may be dates, or symbols. Specifically, I need to find out the answers in the article, which can't be understood by simply extracting them"
   ]
  },
  {
   "cell_type": "markdown",
   "metadata": {},
   "source": [
    "### What's the most common adjective?"
   ]
  },
  {
   "cell_type": "code",
   "execution_count": 58,
   "metadata": {},
   "outputs": [
    {
     "data": {
      "text/plain": [
       "[('consulting', 1),\n",
       " ('sanitary', 1),\n",
       " ('sole', 1),\n",
       " ('celebrated', 1),\n",
       " ('other', 1)]"
      ]
     },
     "execution_count": 58,
     "metadata": {},
     "output_type": "execute_result"
    }
   ],
   "source": [
    "adjectives = [token.text for token in document if token.pos_ == 'ADJ']\n",
    "\n",
    "adj_counter = Counter(adjectives)\n",
    "\n",
    "adj_counter.most_common()"
   ]
  },
  {
   "cell_type": "markdown",
   "metadata": {},
   "source": [
    "There are no repeated adjectives in this article"
   ]
  },
  {
   "cell_type": "markdown",
   "metadata": {},
   "source": [
    "### What adjectives appear before nouns?"
   ]
  },
  {
   "cell_type": "code",
   "execution_count": 59,
   "metadata": {},
   "outputs": [
    {
     "name": "stdout",
     "output_type": "stream",
     "text": [
      "Found a modifying adjective: sanitary\n",
      "\tIt was modifying manufacturers\n",
      "\tIt was modifying ventilator\n",
      "\tIt was modifying engineers\n",
      "\tIt was modifying heating\n",
      "Found a modifying adjective: improved\n",
      "\tIt was modifying appliances\n",
      "\tIt was modifying agents\n",
      "Found a modifying adjective: sole\n",
      "\tIt was modifying makers\n",
      "\tIt was modifying agents\n",
      "Found a modifying adjective: celebrated\n",
      "\tIt was modifying grahtryx\n",
      "\tIt was modifying makers\n",
      "\tIt was modifying agents\n",
      "Found a modifying adjective: other\n",
      "\tIt was modifying machines\n",
      "\tIt was modifying grahtryx\n",
      "\tIt was modifying makers\n",
      "\tIt was modifying agents\n"
     ]
    }
   ],
   "source": [
    "adj_noun_pairs = []\n",
    "\n",
    "for token in document:\n",
    "    if token.dep_ == 'amod':\n",
    "        print(f'Found a modifying adjective: {token.text}')\n",
    "        \n",
    "        for ancestor in token.ancestors:\n",
    "            if ancestor.pos_ == 'NOUN':\n",
    "                print(f'\\tIt was modifying {ancestor.text}')\n",
    "                \n",
    "                adj_noun_pairs.append(f\"{token.text}_{ancestor.text}\")"
   ]
  },
  {
   "cell_type": "code",
   "execution_count": 60,
   "metadata": {},
   "outputs": [
    {
     "data": {
      "text/plain": [
       "[('sanitary_manufacturers', 1),\n",
       " ('sanitary_ventilator', 1),\n",
       " ('sanitary_engineers', 1),\n",
       " ('sanitary_heating', 1),\n",
       " ('improved_appliances', 1),\n",
       " ('improved_agents', 1),\n",
       " ('sole_makers', 1),\n",
       " ('sole_agents', 1),\n",
       " ('celebrated_grahtryx', 1),\n",
       " ('celebrated_makers', 1)]"
      ]
     },
     "execution_count": 60,
     "metadata": {},
     "output_type": "execute_result"
    }
   ],
   "source": [
    "pair_counter = Counter(adj_noun_pairs)\n",
    "\n",
    "pair_counter.most_common(10)"
   ]
  },
  {
   "cell_type": "markdown",
   "metadata": {},
   "source": [
    "Similarly, there also are no repeated words, which is not easy to grasp the main information"
   ]
  },
  {
   "cell_type": "markdown",
   "metadata": {},
   "source": [
    "In the analysis process, we can find that spcay can help us analyze the sentence elements in the article, analyze the relationship between words，extract keywords and so on. However, our target website has 33 pages, and it is obviously too troublesome to analyze one by one. Moreover, our main design purpose is the direction of map visualization, and the content of the article does not contribute much to the design.So I feel that Spacy doesn't contribute much to our team's design ideas, but it's really an interesting way to explore the content of the article."
   ]
  },
  {
   "cell_type": "markdown",
   "metadata": {},
   "source": [
    "## Summary"
   ]
  },
  {
   "cell_type": "markdown",
   "metadata": {},
   "source": [
    "First of all, this is a website with huge data. It is not easy to get effective information from it. Now through my analysis, we can get that the website is still constantly updated, indicating that the search for brick information is still continuing. The peak of article publishing is in 2017, so we can study the articles in 2017. In the analysis, I guess that most Scottish bricks were produced in 1800-2000, and I will pay attention to the information related to this period. Location is the focus of our analysis. Although only the top 20 titles with the largest number of times have been extracted, they should represent a major trend. It can also be seen from the map analysis that Glasgow is the gathering place of Scottish bricks. After that, our goal should also be to study the places around Glasgow and make a more detailed interactive map to show the data."
   ]
  },
  {
   "cell_type": "markdown",
   "metadata": {},
   "source": [
    "## Reflection"
   ]
  },
  {
   "cell_type": "markdown",
   "metadata": {},
   "source": [
    "For me with no programming background, analyzing websites is undoubtedly a huge challenge. Thanks to tutor Alexander for writing some tutorials for us. I do some analysis according to the tutorial, which is very helpful to me. But in the analysis process, there are still many problems that I need to further study, such as the year in the article. At present, I can clearly get the publishing time, but the time in the article can only be extracted by one URL. Although I try to traverse all the URLs with the ''for in range'' language, the waiting time for analysis is very long, because there are too many URLs, and the time format obtained is not the same, which is not easy to sort. This is what I need to further consider later. Now I just use a simple way to guess that the production of Scottish brick may during 1800-2000, but this may be just a coincidence, so I still need to count all the time. I hope I can come up with a better way later."
   ]
  },
  {
   "cell_type": "markdown",
   "metadata": {},
   "source": [
    "## Hypothesise"
   ]
  },
  {
   "cell_type": "markdown",
   "metadata": {},
   "source": [
    "1. Glasgow may have been the gathering place of a large number of brick factories? I need to refer to the articles on the website for answers."
   ]
  },
  {
   "cell_type": "markdown",
   "metadata": {},
   "source": [
    "2. More bricks have been found in Glasgow, which may indicate that the protection works of bricks and tiles or old buildings here are well done? I may be able to search on the Internet for information about heritage conservation in Glasgow?"
   ]
  },
  {
   "cell_type": "markdown",
   "metadata": {},
   "source": [
    "3. Some bricks have also been found near Glasgow. Is this from Glasgow or is there a brick factory near Glasgow? I guess the possibility of emigration from Glasgow is greater, because if Glasgow already had a brick factory, it would not have been built nearby. Further investigation with team members is needed"
   ]
  }
 ],
 "metadata": {
  "kernelspec": {
   "display_name": "Python 3",
   "language": "python",
   "name": "python3"
  },
  "language_info": {
   "codemirror_mode": {
    "name": "ipython",
    "version": 3
   },
   "file_extension": ".py",
   "mimetype": "text/x-python",
   "name": "python",
   "nbconvert_exporter": "python",
   "pygments_lexer": "ipython3",
   "version": "3.8.3"
  },
  "toc": {
   "base_numbering": 1,
   "nav_menu": {},
   "number_sections": false,
   "sideBar": true,
   "skip_h1_title": false,
   "title_cell": "Table of Contents",
   "title_sidebar": "Contents",
   "toc_cell": false,
   "toc_position": {
    "height": "calc(100% - 180px)",
    "left": "10px",
    "top": "150px",
    "width": "282.512px"
   },
   "toc_section_display": true,
   "toc_window_display": true
  }
 },
 "nbformat": 4,
 "nbformat_minor": 4
}
