{
 "cells": [
  {
   "cell_type": "code",
   "execution_count": 19,
   "metadata": {},
   "outputs": [
    {
     "name": "stdout",
     "output_type": "stream",
     "text": [
      "Requirement already satisfied: beautifulsoup4 in /opt/conda/lib/python3.7/site-packages (4.9.1)\n",
      "Requirement already satisfied: soupsieve>1.2 in /opt/conda/lib/python3.7/site-packages (from beautifulsoup4) (2.0.1)\n"
     ]
    }
   ],
   "source": [
    "!pip install beautifulsoup4"
   ]
  },
  {
   "cell_type": "code",
   "execution_count": 29,
   "metadata": {},
   "outputs": [],
   "source": [
    "from bs4 import BeautifulSoup as bs"
   ]
  },
  {
   "cell_type": "code",
   "execution_count": 30,
   "metadata": {},
   "outputs": [],
   "source": [
    "import requests"
   ]
  },
  {
   "cell_type": "code",
   "execution_count": 47,
   "metadata": {},
   "outputs": [
    {
     "name": "stdout",
     "output_type": "stream",
     "text": [
      "[<a href=\"https://www.scottishbrickhistory.co.uk/a-mcgrouther-brickmaker-newhouse-st-ninians-stirling/\">A McGrouther, brickmaker, Newhouse, St Ninians, Stirling</a>, <a href=\"https://www.scottishbrickhistory.co.uk/a-kenneth-sons-ltd-shewalton-north-ayrshire-ayrshire/\">A. Kenneth &amp; Sons Ltd, Shewalton, North Ayrshire, Ayrshire</a>, <a href=\"https://www.scottishbrickhistory.co.uk/abbots-haugh-falkirk-unidentified-tileworks/\">Abbots Haugh, Falkirk – Unidentified Tileworks</a>, <a href=\"https://www.scottishbrickhistory.co.uk/abercorn-brickworks-portobello-edinburgh/\">Abercorn Brickworks, Portobello, Edinburgh</a>, <a href=\"https://www.scottishbrickhistory.co.uk/aberhill-brickworks-methil-fife/\">Aberhill Brickworks, Methil, Fife.</a>, <a href=\"https://www.scottishbrickhistory.co.uk/aberlady-or-ballencrieff-brickworks-aberlady-haddingtonshire-east-lothian/\">Aberlady or Ballencrieff  Brickworks, Aberlady, Haddingtonshire, East Lothian</a>, <a href=\"https://www.scottishbrickhistory.co.uk/addiewell-brickworks-addiewell-west-lothian/\">Addiewell Brickworks, Addiewell, West Lothian</a>, <a href=\"https://www.scottishbrickhistory.co.uk/afton-brick-and-tile-works-new-cumnock-east-ayrshire/\">Afton Brick and Tile Works, New Cumnock, East Ayrshire</a>, <a href=\"https://www.scottishbrickhistory.co.uk/afton-tileworks-straid-new-cumnock-east-ayrshire/\">Afton Tileworks, Straid, New Cumnock, East Ayrshire</a>, <a href=\"https://www.scottishbrickhistory.co.uk/airdrie-brickworks-petersburn-airdrie-north-lanarkshire/\">Airdrie Brickworks, Petersburn, Airdrie, North Lanarkshire</a>, <a href=\"https://www.scottishbrickhistory.co.uk/airdrie-house-brickworks-airdrie-north-lanarkshire/\">Airdrie House Brickworks, Airdrie, North Lanarkshire</a>, <a href=\"https://www.scottishbrickhistory.co.uk/albert-plumbago-crucible-works-fauldhouse-street-rutherglen-road-glasgow/\">Albert Plumbago Crucible Works, Fauldhouse Street, Rutherglen Road, Glasgow</a>, <a href=\"https://www.scottishbrickhistory.co.uk/aldersyde-brickworks-cleland-north-lanarkshire/\">Aldersyde Brickworks, Cleland, North Lanarkshire</a>, <a href=\"https://www.scottishbrickhistory.co.uk/alexander-campbell-son-brick-an-tile-manufacturer-glasgow-road-perth/\">Alexander Campbell &amp; Son, brick and tile manufacturer, Glasgow Road, Perth</a>, <a href=\"https://www.scottishbrickhistory.co.uk/alexander-gilmour-tile-maker-barr-street-galston-ayr/\">Alexander Gilmour, Tile Maker, Barr Street, Galston, Ayr</a>, <a href=\"https://www.scottishbrickhistory.co.uk/alexander-mcivor-brickmaker-glasgow/\">Alexander McIvor, brickmaker, Glasgow</a>, <a href=\"https://www.scottishbrickhistory.co.uk/alexander-mcneill-brick-maker-garngadhill-and-mount-pleasant-glasgow/\">Alexander McNeill Brick maker Garngadhill and Mount Pleasant Glasgow</a>, <a href=\"https://www.scottishbrickhistory.co.uk/alexandra-transport-company-glasgow/\">Alexandra Transport Company, Glasgow</a>, <a href=\"https://www.scottishbrickhistory.co.uk/allangrange-tile-works-black-isle-ross-and-cromarty/\">Allangrange Tile Works, Black Isle, Ross and Cromarty</a>, <a href=\"https://www.scottishbrickhistory.co.uk/allanton-brick-tile-fireclay-pottery-and-terracotta-works-newmains-north-lanarkshire/\">Allanton Brick, Tile, Fireclay, Pottery and Terracotta Works, Newmains, North Lanarkshire</a>, <a href=\"https://www.scottishbrickhistory.co.uk/alloa-brick-and-tile-works-alloa-clackmannanshire/\">Alloa Brick and Tile Works, Alloa, Clackmannanshire</a>, <a href=\"https://www.scottishbrickhistory.co.uk/alva-brick-and-tile-works-alva-clackmannanshire/\">Alva Brick and Tile Works, Alva, Clackmannanshire</a>, <a href=\"https://www.scottishbrickhistory.co.uk/anchor-brickworks-denny-stirlingshire/\">Anchor Brickworks, Denny, Stirlingshire</a>, <a href=\"https://www.scottishbrickhistory.co.uk/andrew-gillies-brick-maker-31-east-crawford-street-greenock/\">Andrew Gillies, Brick maker, 31 East Crawford Street, Greenock.</a>, <a href=\"https://www.scottishbrickhistory.co.uk/annandale-brickworks-crosshouse-kilmarnock-east-ayrshire/\">Annandale Brickworks, Crosshouse, Kilmarnock, East Ayrshire.</a>, <a href=\"https://www.scottishbrickhistory.co.uk/annbank-brickworks-annbank-south-ayrshire/\">Annbank Brickworks, Annbank, South Ayrshire</a>, <a href=\"https://www.scottishbrickhistory.co.uk/annfield-pottery-brick-and-tile-works-glasgow/\">Annfield Pottery, Brick and Tile Works, Glasgow</a>, <a href=\"https://www.scottishbrickhistory.co.uk/anniesland-brickfield-nr-gartnavel-glasgow/\">Anniesland Brickfield, Nr Gartnavel, Glasgow</a>, <a href=\"https://www.scottishbrickhistory.co.uk/anniston-brick-and-tile-works-inverkeillor-angus/\">Anniston Brick and Tile Works, Inverkeillor, Angus.</a>, <a href=\"https://www.scottishbrickhistory.co.uk/appin-fire-clay-works-townhill-dunfermline-fife/\">Appin Fire Clay Works, Townhill, Dunfermline, Fife</a>]\n"
     ]
    }
   ],
   "source": [
    "header_list = requests.get('https://www.scottishbrickhistory.co.uk/category/brick-and-tile-works/')\n",
    "header_list = bs(header_list.text, \"lxml\")\n",
    "\n",
    "#name = header_list.find_all('h5', {'class':'entry-title'})\n",
    "table = header_list.select(\"h5 a\")\n",
    "\n",
    "print(table)"
   ]
  },
  {
   "cell_type": "code",
   "execution_count": 16,
   "metadata": {},
   "outputs": [
    {
     "ename": "NameError",
     "evalue": "name 'soup' is not defined",
     "output_type": "error",
     "traceback": [
      "\u001b[0;31m---------------------------------------------------------------------------\u001b[0m",
      "\u001b[0;31mNameError\u001b[0m                                 Traceback (most recent call last)",
      "\u001b[0;32m<ipython-input-16-7cc323105c58>\u001b[0m in \u001b[0;36m<module>\u001b[0;34m\u001b[0m\n\u001b[0;32m----> 1\u001b[0;31m \u001b[0msoup\u001b[0m\u001b[0;34m.\u001b[0m\u001b[0mhead\u001b[0m\u001b[0;34m\u001b[0m\u001b[0;34m\u001b[0m\u001b[0m\n\u001b[0m",
      "\u001b[0;31mNameError\u001b[0m: name 'soup' is not defined"
     ]
    }
   ],
   "source": []
  },
  {
   "cell_type": "code",
   "execution_count": null,
   "metadata": {},
   "outputs": [],
   "source": []
  }
 ],
 "metadata": {
  "kernelspec": {
   "display_name": "Python 3",
   "language": "python",
   "name": "python3"
  },
  "language_info": {
   "codemirror_mode": {
    "name": "ipython",
    "version": 3
   },
   "file_extension": ".py",
   "mimetype": "text/x-python",
   "name": "python",
   "nbconvert_exporter": "python",
   "pygments_lexer": "ipython3",
   "version": "3.7.6"
  }
 },
 "nbformat": 4,
 "nbformat_minor": 4
}
