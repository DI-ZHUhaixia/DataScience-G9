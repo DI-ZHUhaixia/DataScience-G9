{
 "cells": [
  {
   "cell_type": "markdown",
   "metadata": {},
   "source": [
    "# Scraping"
   ]
  },
  {
   "cell_type": "markdown",
   "metadata": {},
   "source": [
    "First, to install jupyter-echarts-pypkg, pyecharts(1.7.1 version), echarts_united_kingdom_pypkg and beautifulsoup4. "
   ]
  },
  {
   "cell_type": "markdown",
   "metadata": {},
   "source": [
    "I will use the requests module to gather webpages and use the beautifulsoup module to extract information from them.Then, use pyecharts to visualize them."
   ]
  },
  {
   "cell_type": "code",
   "execution_count": 1,
   "metadata": {},
   "outputs": [
    {
     "name": "stdout",
     "output_type": "stream",
     "text": [
      "Requirement already satisfied: jupyter-echarts-pypkg in /opt/conda/lib/python3.7/site-packages (0.1.5)\n",
      "Requirement already satisfied: lml>=0.0.2 in /opt/conda/lib/python3.7/site-packages (from jupyter-echarts-pypkg) (0.0.2)\n",
      "Requirement already satisfied: pyecharts-jupyter-installer==0.0.3 in /opt/conda/lib/python3.7/site-packages (from jupyter-echarts-pypkg) (0.0.3)\n",
      "Note: you may need to restart the kernel to use updated packages.\n"
     ]
    }
   ],
   "source": [
    "pip install jupyter-echarts-pypkg"
   ]
  },
  {
   "cell_type": "code",
   "execution_count": 2,
   "metadata": {},
   "outputs": [
    {
     "name": "stdout",
     "output_type": "stream",
     "text": [
      "Collecting pyecharts==1.7.1\n",
      "  Using cached pyecharts-1.7.1-py3-none-any.whl (128 kB)\n",
      "Requirement already satisfied: jinja2 in /opt/conda/lib/python3.7/site-packages (from pyecharts==1.7.1) (2.11.2)\n",
      "Collecting prettytable\n",
      "  Using cached prettytable-1.0.1-py2.py3-none-any.whl (22 kB)\n",
      "Collecting simplejson\n",
      "  Using cached simplejson-3.17.2-cp37-cp37m-manylinux2010_x86_64.whl (128 kB)\n",
      "Requirement already satisfied: MarkupSafe>=0.23 in /opt/conda/lib/python3.7/site-packages (from jinja2->pyecharts==1.7.1) (1.1.1)\n",
      "Requirement already satisfied: wcwidth in /opt/conda/lib/python3.7/site-packages (from prettytable->pyecharts==1.7.1) (0.2.4)\n",
      "Requirement already satisfied: setuptools in /opt/conda/lib/python3.7/site-packages (from prettytable->pyecharts==1.7.1) (47.1.1.post20200529)\n",
      "Installing collected packages: prettytable, simplejson, pyecharts\n",
      "Successfully installed prettytable-1.0.1 pyecharts-1.7.1 simplejson-3.17.2\n",
      "Note: you may need to restart the kernel to use updated packages.\n"
     ]
    }
   ],
   "source": [
    "pip install pyecharts==1.7.1"
   ]
  },
  {
   "cell_type": "code",
   "execution_count": 3,
   "metadata": {},
   "outputs": [
    {
     "name": "stdout",
     "output_type": "stream",
     "text": [
      "Requirement already satisfied: echarts_united_kingdom_pypkg in /opt/conda/lib/python3.7/site-packages (0.0.1)\n",
      "Requirement already satisfied: lml==0.0.2 in /opt/conda/lib/python3.7/site-packages (from echarts_united_kingdom_pypkg) (0.0.2)\n",
      "Requirement already satisfied: pyecharts-jupyter-installer==0.0.3 in /opt/conda/lib/python3.7/site-packages (from echarts_united_kingdom_pypkg) (0.0.3)\n",
      "Note: you may need to restart the kernel to use updated packages.\n"
     ]
    }
   ],
   "source": [
    "pip install echarts_united_kingdom_pypkg"
   ]
  },
  {
   "cell_type": "code",
   "execution_count": 4,
   "metadata": {},
   "outputs": [
    {
     "name": "stdout",
     "output_type": "stream",
     "text": [
      "Requirement already satisfied: beautifulsoup4 in /opt/conda/lib/python3.7/site-packages (4.9.1)\n",
      "Requirement already satisfied: soupsieve>1.2 in /opt/conda/lib/python3.7/site-packages (from beautifulsoup4) (2.0.1)\n",
      "Note: you may need to restart the kernel to use updated packages.\n"
     ]
    }
   ],
   "source": [
    "pip install beautifulsoup4"
   ]
  },
  {
   "cell_type": "code",
   "execution_count": 5,
   "metadata": {},
   "outputs": [],
   "source": [
    "from __future__ import unicode_literals\n",
    "import matplotlib.pyplot as plt\n",
    "import seaborn as sns\n",
    "import numpy as np\n",
    "import requests\n",
    "from bs4 import BeautifulSoup\n",
    "from pyecharts.charts import Map, Geo, Bar, WordCloud,EffectScatter,PictorialBar\n",
    "from pyecharts import options as opts\n",
    "from echarts_united_kingdom_pypkg import constants as UK_constants"
   ]
  },
  {
   "cell_type": "code",
   "execution_count": 6,
   "metadata": {},
   "outputs": [
    {
     "name": "stdout",
     "output_type": "stream",
     "text": [
      "page 1 done.\n",
      "page 2 done.\n",
      "page 3 done.\n",
      "page 4 done.\n",
      "page 5 done.\n",
      "page 6 done.\n",
      "page 7 done.\n",
      "page 8 done.\n",
      "page 9 done.\n",
      "page 10 done.\n",
      "page 11 done.\n",
      "page 12 done.\n",
      "page 13 done.\n",
      "page 14 done.\n",
      "page 15 done.\n",
      "page 16 done.\n",
      "page 17 done.\n",
      "page 18 done.\n",
      "page 19 done.\n",
      "page 20 done.\n",
      "page 21 done.\n",
      "page 22 done.\n",
      "page 23 done.\n",
      "page 24 done.\n",
      "page 25 done.\n",
      "page 26 done.\n",
      "page 27 done.\n",
      "page 28 done.\n",
      "page 29 done.\n",
      "page 30 done.\n",
      "page 31 done.\n",
      "page 32 done.\n",
      "page 33 done.\n"
     ]
    }
   ],
   "source": [
    "requests_results = []\n",
    "for page in range(1,34):\n",
    "    r  = requests.get(f'https://www.scottishbrickhistory.co.uk/category/brick-and-tile-works/page/{page}/')\n",
    "    html = r.text\n",
    "    soup = BeautifulSoup(html)\n",
    "    articles = soup.find_all('article')\n",
    "    for article in articles:\n",
    "        title = article.h5.text.strip().split(',')\n",
    "        title = [i.strip().replace('.','').replace('(','').replace(')','') for i in title]\n",
    "        time = article.span.text.strip()[-10:].split('/')\n",
    "        requests_results.append((title,time))\n",
    "    print(f'page {page} done.')"
   ]
  },
  {
   "cell_type": "code",
   "execution_count": 7,
   "metadata": {},
   "outputs": [
    {
     "name": "stdout",
     "output_type": "stream",
     "text": [
      "Original data sample:  (['A McGrouther', 'brickmaker', 'Newhouse', 'St Ninians', 'Stirling'], ['22', '01', '2018'])\n",
      "Total items number:  971\n"
     ]
    }
   ],
   "source": [
    "print('Original data sample: ',requests_results[0])\n",
    "print('Total items number: ',len(requests_results))"
   ]
  }
 ],
 "metadata": {
  "kernelspec": {
   "display_name": "Python 3",
   "language": "python",
   "name": "python3"
  },
  "language_info": {
   "codemirror_mode": {
    "name": "ipython",
    "version": 3
   },
   "file_extension": ".py",
   "mimetype": "text/x-python",
   "name": "python",
   "nbconvert_exporter": "python",
   "pygments_lexer": "ipython3",
   "version": "3.7.6"
  }
 },
 "nbformat": 4,
 "nbformat_minor": 4
}
